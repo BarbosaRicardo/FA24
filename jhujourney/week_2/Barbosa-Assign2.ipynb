{
 "cells": [
  {
   "cell_type": "markdown",
   "id": "f33ba65a-874b-4f38-8312-499f15dae0d6",
   "metadata": {},
   "source": [
    "# Describe, compare, contrast the given classifiers"
   ]
  },
  {
   "cell_type": "markdown",
   "id": "7fe9d160-1841-4705-9e36-50c7516b727e",
   "metadata": {},
   "source": [
    "## Perceptron\n",
    "- Speed: Fast and computationally efficient.\n",
    "- Strength: Can handle linearly separable data well.\n",
    "- Robustness: Not robust; fails on non-linearly separable data.\n",
    "- Feature Type: Naturally uses numerical features since it relies on distance and hyperplane division.\n",
    "- Statistical: Yes, it is a linear classifier based on the concept of hyperplanes.\n",
    "- Optimization Problem: Solves a linear optimization problem using the step function as the activation.\n"
   ]
  },
  {
   "cell_type": "markdown",
   "id": "e51efa53",
   "metadata": {},
   "source": [
    "## Support Vector Machine (SVM) \n",
    "- Speed: Slower for large datasets as it involves solving a quadratic optimization problem.\n",
    "- Strength: Can handle both linearly and non-linearly separable data using kernel tricks.\n",
    "- Robustness: Highly robust, especially with the ability to use different kernel functions.\n",
    "- Feature Type: Primarily numerical, but kernel methods allow it to handle more complex, non-linear relationships.\n",
    "- Statistical: Yes, it’s a statistical learning method that maximizes the margin between data points.\n",
    "- Optimization Problem: Maximizes the margin between classes by solving a quadratic optimization problem with constraints."
   ]
  },
  {
   "cell_type": "markdown",
   "id": "d879af6c-5377-4c90-acda-3de25c8ce171",
   "metadata": {},
   "source": [
    "## Decision Tree\n",
    "- Speed: Fast to train and interpret, but can slow down with deeper trees.\n",
    "- Strength: Easy to understand and visualize; handles both numerical and categorical data.\n",
    "- Robustness: Prone to overfitting, especially with deep trees, unless pruned.\n",
    "- Feature type: Handles numerical and categorical features well.\n",
    "- Statistical: Non-statistical, based on a series of binary decisions.\n",
    "- Optimization: Greedily splits data based on a criterion (like Gini impurity or entropy) at each node, without solving a global optimization problem."
   ]
  },
  {
   "cell_type": "markdown",
   "id": "a32e2b02-f8c9-4bf3-a435-787fb77ea324",
   "metadata": {},
   "source": [
    "## Random Forest\n",
    "- Speed: Slower than Decision Trees due to training multiple trees, but parallelizable.\n",
    "- Strength: Very powerful and reduces overfitting by averaging multiple trees.\n",
    "- Robustness: Highly robust due to ensemble learning; handles noise better than a single Decision Tree.\n",
    "- Feature type: Works with both numerical and categorical data, like Decision Trees.\n",
    "- Statistical: Built from Decision Trees, which are non-statistical, but ensemble learning adds a layer of statistical robustness.\n",
    "- Optimization: Not based on direct optimization; it aggregates results from multiple Decision Trees to minimize variance."
   ]
  },
  {
   "cell_type": "markdown",
   "id": "e39881c4-d0f1-4882-8a1b-a7ca58acdb46",
   "metadata": {},
   "source": [
    "## Which one to try first?\n",
    "I would try Random Forest first because of its robustness and ability to handle both numerical and categorical features, along with its ensemble learning ability, which may reduce overfitting."
   ]
  },
  {
   "cell_type": "markdown",
   "id": "1482eafd-1ee6-4e47-b4be-604cd7f7b40d",
   "metadata": {},
   "source": [
    "# Feature Types with Examples"
   ]
  },
  {
   "cell_type": "markdown",
   "id": "6587debe-288a-4061-ba92-b2c7d4040a4b",
   "metadata": {},
   "source": [
    "## Numerical: \n",
    "- Quantitative data representing measurable quantities.\n",
    "  - Example: Age in the Iris dataset (e.g., 23, 45, 34).\n",
    "  - Nominal: Categorical data without any order.\n",
    "\n"
   ]
  },
  {
   "cell_type": "code",
   "execution_count": null,
   "id": "b2487341-671d-4500-954d-a75a0e915cf5",
   "metadata": {},
   "outputs": [],
   "source": []
  }
 ],
 "metadata": {
  "authors": [
   {
    "name": "Ricardo Barbosa"
   }
  ],
  "date": "September 8, 2024",
  "kernelspec": {
   "display_name": "Python 3 (ipykernel)",
   "language": "python",
   "name": "python3"
  },
  "language_info": {
   "codemirror_mode": {
    "name": "ipython",
    "version": 3
   },
   "file_extension": ".py",
   "mimetype": "text/x-python",
   "name": "python",
   "nbconvert_exporter": "python",
   "pygments_lexer": "ipython3",
   "version": "3.11.9"
  },
  "subtitle": "Test",
  "title": "705.601.81.FA24 - Assignment 2"
 },
 "nbformat": 4,
 "nbformat_minor": 5
}
