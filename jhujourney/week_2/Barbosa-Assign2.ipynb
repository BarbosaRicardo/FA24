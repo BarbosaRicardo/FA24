{
 "cells": [
  {
   "cell_type": "markdown",
   "id": "f33ba65a-874b-4f38-8312-499f15dae0d6",
   "metadata": {},
   "source": [
    "# Describe, compare, contrast the given classifiers"
   ]
  },
  {
   "cell_type": "markdown",
   "id": "7fe9d160-1841-4705-9e36-50c7516b727e",
   "metadata": {},
   "source": [
    "## Perceptron\n",
    "- Speed: Fast and computationally efficient.\n",
    "- Strength: Can handle linearly separable data well.\n",
    "- Robustness: Not robust; fails on non-linearly separable data.\n",
    "- Feature Type: Naturally uses numerical features since it relies on distance and hyperplane division.\n",
    "- Statistical: Yes, it is a linear classifier based on the concept of hyperplanes.\n",
    "- Optimization Problem: Solves a linear optimization problem using the step function as the activation.\n"
   ]
  },
  {
   "cell_type": "markdown",
   "id": "e51efa53",
   "metadata": {},
   "source": [
    "## Support Vector Machine (SVM) \n",
    "- Speed: Slower for large datasets as it involves solving a quadratic optimization problem.\n",
    "- Strength: Can handle both linearly and non-linearly separable data using kernel tricks.\n",
    "- Robustness: Highly robust, especially with the ability to use different kernel functions.\n",
    "- Feature Type: Primarily numerical, but kernel methods allow it to handle more complex, non-linear relationships.\n",
    "- Statistical: Yes, it’s a statistical learning method that maximizes the margin between data points.\n",
    "- Optimization Problem: Maximizes the margin between classes by solving a quadratic optimization problem with constraints."
   ]
  }
 ],
 "metadata": {
  "authors": [
   {
    "name": "Ricardo Barbosa"
   }
  ],
  "date": "September 8, 2024",
  "kernelspec": {
   "display_name": "Python 3 (ipykernel)",
   "language": "python",
   "name": "python3"
  },
  "language_info": {
   "codemirror_mode": {
    "name": "ipython",
    "version": 3
   },
   "file_extension": ".py",
   "mimetype": "text/x-python",
   "name": "python",
   "nbconvert_exporter": "python",
   "pygments_lexer": "ipython3",
   "version": "3.11.9"
  },
  "subtitle": "Test",
  "title": "705.601.81.FA24 - Assignment 2"
 },
 "nbformat": 4,
 "nbformat_minor": 5
}
