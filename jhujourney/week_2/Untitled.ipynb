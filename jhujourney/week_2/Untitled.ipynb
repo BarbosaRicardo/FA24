{
 "cells": [
  {
   "cell_type": "markdown",
   "id": "14c3de1e",
   "metadata": {},
   "source": [
    "# What skills did the course help develop?\n",
    "##  Self-leadership \n",
    "Through various breakout activities, participants were encouraged to reflect on their motivations, strengths, and areas for improvement, enabling them to lead themselves better. "
   ]
  },
  {
   "cell_type": "markdown",
   "id": "6eb3faf5",
   "metadata": {},
   "source": [
    "## Communication Skills \n",
    "DiSC personality styles were covered, letting participants to understand different communication styles (Dominance, Influence, Steadiness, and Conscientiousness. This helped participatns improve their interations with others based on personality differences. "
   ]
  },
  {
   "cell_type": "markdown",
   "id": "14a18b97",
   "metadata": {},
   "source": [
    "## EQ \n",
    "Through self-reflection and group activities, participants leaned how to identify their own emotional triggers and how to manage them, especially in stressful situations. "
   ]
  },
  {
   "cell_type": "markdown",
   "id": "b8669186",
   "metadata": {},
   "source": [
    "## Problem-Solving and Critical Thinking \n",
    "The course included activities on leadership behaviors, encouraging participants to think about how leaders solve problems, the difference between successful individual controbutors and leaders, and how to approach leadership challenges creatively. "
   ]
  },
  {
   "cell_type": "markdown",
   "id": "51947e25",
   "metadata": {},
   "source": [
    "# Did the course help you be a better communicator? If yes, How?\n",
    "- The course aimed to make participation an integral part of the learning assignments. One of which that stuck out the most was finding different communication styles (Direct, Confident, Energetic, Affirming, Precise) affects relationships and interactions with others. \n",
    "- By tailoring one's approach to the individual they are communicating with, understanding whether the person is more resu\n",
    "- The course aimed to make participation an integral part of the learning assignments. One of which that stuck out the most was finding different communication styles (Direct, Confident, Energetic, Affirming, Precise) affects relationships and interactions with others. \n",
    "- By taioloring one's approach to the individual they are communicating with, understanding whether the person is more results/tasl-oriented (DC) or people-oriented (IS). "
   ]
  },
  {
   "cell_type": "markdown",
   "id": "6bcf8703",
   "metadata": {},
   "source": [
    "## Conflict Resolution\n",
    "By recognizing sources of conflict based on communication styles, we gained strategies to resolve conflicts more effectively. Results/task-oriented (DC) or people-oriented (IS)."
   ]
  },
  {
   "cell_type": "markdown",
   "id": "aa72bdf7",
   "metadata": {},
   "source": [
    "# How did the course help your emotional intelligence?\n",
    "Reflect on their personal leadership motivations and identify strengths and weaknesses, which is key to self-awareness.\n",
    "Understand how their communication style affects others, particularly when under stress (e.g., Dominance style may come off as aggressive, while Steadiness may become overly accommodating).\n",
    "Manage stress and emotions better, as they learned to recognize their behavioral responses under pressure and how to mitigate negative impact."
   ]
  },
  {
   "cell_type": "markdown",
   "id": "357f4e95",
   "metadata": {},
   "source": [
    "# How did the course help you be a better problem solver?\n",
    "Breakout activities that involved working in groups to reflect on leadership behaviors and real-life applications in organizations.\n",
    "Participants discussed how the company encourages leaders to live leadership behaviors and examined barriers that can hold leaders back, thus fostering a problem-solving mindset"
   ]
  },
  {
   "cell_type": "markdown",
   "id": "db3a0fd8",
   "metadata": {},
   "source": [
    "# How did the course help you think outside the box?\n",
    "Encouraging participants to reflect on different leadership behaviors and how they could be applied in diverse situations at their company.\n",
    "Group discussions and activities challenged participants to think beyond their personal experiences and consider broader leadership models, helping them gain a more innovative perspective"
   ]
  },
  {
   "cell_type": "markdown",
   "id": "47970ca0",
   "metadata": {},
   "source": [
    "# What was the one thing during the training that was interesting to you?\n",
    "One particularly interesting aspect of the training was the use of DiSC Personality and Communication Styles to frame leadership and communication. Participants explored how their individual personality type influences their communication style and how understanding this could help them become stronger leader. The variety of communication styles—ranging from task-oriented dominance to people-focused steadiness—was likely eye-opening for many participants."
   ]
  }
 ],
 "metadata": {
  "authors": [
   {
    "name": "Ricardo Barbosa"
   }
  ],
  "kernelspec": {
   "display_name": "Python 3 (ipykernel)",
   "language": "python",
   "name": "python3"
  },
  "language_info": {
   "codemirror_mode": {
    "name": "ipython",
    "version": 3
   },
   "file_extension": ".py",
   "mimetype": "text/x-python",
   "name": "python",
   "nbconvert_exporter": "python",
   "pygments_lexer": "ipython3",
   "version": "3.11.9"
  },
  "title": "Sustainable Leadership Post Questions"
 },
 "nbformat": 4,
 "nbformat_minor": 5
}
