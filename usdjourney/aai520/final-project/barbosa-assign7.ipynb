{
 "cells": [
  {
   "cell_type": "code",
   "execution_count": 1,
   "id": "af6a3544-6843-41ac-932b-670f29d308e2",
   "metadata": {},
   "outputs": [],
   "source": [
    "import torch \n",
    "import torch.nn as nn\n",
    "from torch import optim\n",
    "import torch.nn.functional as F\n",
    "import csv\n",
    "import random\n",
    "import re\n",
    "import os\n",
    "import unicodedata\n",
    "import codecs\n",
    "import itertools"
   ]
  },
  {
   "cell_type": "code",
   "execution_count": 2,
   "id": "822f3bbc-49dd-448a-a442-d91f851d4705",
   "metadata": {},
   "outputs": [],
   "source": [
    "# define the device to use \n",
    "device = torch.device(\"cpu\")"
   ]
  },
  {
   "cell_type": "code",
   "execution_count": 3,
   "id": "6d80e9b2-6737-41e3-a63b-64357ea5d633",
   "metadata": {},
   "outputs": [],
   "source": [
    "lines_filepath = os.path.join('cornell movie-dialogs corpus', '/Users/bandito/Documents/usdjourney/archive/movie_lines.txt')\n",
    "conv_filepath = os.path.join('cornell movie-dialogs corpus', \"/Users/bandito/Documents/usdjourney/archive/movie_conversations.txt\")"
   ]
  },
  {
   "cell_type": "code",
   "execution_count": 4,
   "id": "6caa9558-805f-4f86-aa3d-7c9892aa246c",
   "metadata": {},
   "outputs": [
    {
     "name": "stdout",
     "output_type": "stream",
     "text": [
      "b'L1045 +++$+++ u0 +++$+++ m0 +++$+++ BIANCA +++$+++ They do not!'\n",
      "b'L1044 +++$+++ u2 +++$+++ m0 +++$+++ CAMERON +++$+++ They do to!'\n",
      "b'L985 +++$+++ u0 +++$+++ m0 +++$+++ BIANCA +++$+++ I hope so.'\n",
      "b'L984 +++$+++ u2 +++$+++ m0 +++$+++ CAMERON +++$+++ She okay?'\n",
      "b\"L925 +++$+++ u0 +++$+++ m0 +++$+++ BIANCA +++$+++ Let's go.\"\n",
      "b'L924 +++$+++ u2 +++$+++ m0 +++$+++ CAMERON +++$+++ Wow'\n",
      "b\"L872 +++$+++ u0 +++$+++ m0 +++$+++ BIANCA +++$+++ Okay -- you're gonna need to learn how to lie.\"\n",
      "b'L871 +++$+++ u2 +++$+++ m0 +++$+++ CAMERON +++$+++ No'\n"
     ]
    }
   ],
   "source": [
    "# visualize a few lines\n",
    "with open(lines_filepath, 'rb') as file:\n",
    "    lines = file.readlines()\n",
    "for line in lines[:8]:\n",
    "    print(line.strip())"
   ]
  },
  {
   "cell_type": "code",
   "execution_count": 5,
   "id": "df99d0b8-c94a-46df-9daf-ac9fd0e8d76d",
   "metadata": {},
   "outputs": [],
   "source": [
    "# split each line of the file into a dictionary \n",
    "line_fields = ['lineID', 'characterID', 'movieID','character', 'text']\n",
    "lines = {}\n",
    "with open(lines_filepath, 'r', encoding='iso-8859-1') as f:\n",
    "    for line in f:\n",
    "        values = line.split(' +++$+++ ')\n",
    "        # Extract fields\n",
    "        lineObj = {}\n",
    "        for i, field in enumerate(line_fields):\n",
    "            lineObj[field] = values[i]\n",
    "        lines[lineObj['lineID']] = lineObj"
   ]
  },
  {
   "cell_type": "code",
   "execution_count": 6,
   "id": "f552c988-adea-4f9b-afc0-783fcf154562",
   "metadata": {},
   "outputs": [
    {
     "data": {
      "text/plain": [
       "{'L1045': {'lineID': 'L1045',\n",
       "  'characterID': 'u0',\n",
       "  'movieID': 'm0',\n",
       "  'character': 'BIANCA',\n",
       "  'text': 'They do not!\\n'},\n",
       " 'L1044': {'lineID': 'L1044',\n",
       "  'characterID': 'u2',\n",
       "  'movieID': 'm0',\n",
       "  'character': 'CAMERON',\n",
       "  'text': 'They do to!\\n'},\n",
       " 'L985': {'lineID': 'L985',\n",
       "  'characterID': 'u0',\n",
       "  'movieID': 'm0',\n",
       "  'character': 'BIANCA',\n",
       "  'text': 'I hope so.\\n'}}"
      ]
     },
     "execution_count": 6,
     "metadata": {},
     "output_type": "execute_result"
    }
   ],
   "source": [
    "dict(itertools.islice(lines.items(), 3)) # displays first 3 items"
   ]
  },
  {
   "cell_type": "code",
   "execution_count": 7,
   "id": "26eb97d6-c121-4715-be3b-81218607a299",
   "metadata": {},
   "outputs": [],
   "source": [
    "# split each line of the file into a dictionary of fields \n",
    "conv_fields = ['character1ID', 'character2ID','movieID','utteranceIDs']\n",
    "conversations = []\n",
    "with open(conv_filepath, 'r', encoding='iso-8859-1') as f:\n",
    "    for line in f:\n",
    "        values = line.split(' +++$+++ ')\n",
    "        \n",
    "        # Extract fields\n",
    "        convObj = {}\n",
    "        for i, field in enumerate(conv_fields):\n",
    "            convObj[field] = values[i]\n",
    "        \n",
    "        # Convert string result from split to list \n",
    "        lineIds = eval(convObj['utteranceIDs'])\n",
    "        \n",
    "        #Reassemble lines\n",
    "        convObj['lines'] = []\n",
    "        for lineId in lineIds:\n",
    "            convObj['lines'].append(lines[lineId])\n",
    "        \n",
    "        conversations.append(convObj)"
   ]
  },
  {
   "cell_type": "code",
   "execution_count": 8,
   "id": "dae0c7bd-82c6-434f-a777-bb3c501f2743",
   "metadata": {},
   "outputs": [],
   "source": [
    "# QA pairs\n",
    "qa_pairs = []\n",
    "for conv in conversations:\n",
    "    #iterate over all lines \n",
    "    for i in range(len(conv['lines'])-1):\n",
    "        inputLine = conv['lines'][i]['text'].strip()\n",
    "        targetLine = conv['lines'][i+1]['text'].strip()\n",
    "        # filter wrong samples if any\n",
    "        if inputLine and targetLine:\n",
    "            qa_pairs.append([inputLine, targetLine])"
   ]
  },
  {
   "cell_type": "code",
   "execution_count": 9,
   "id": "1cd5157d-c2e6-4317-9047-d6aaea170307",
   "metadata": {},
   "outputs": [
    {
     "data": {
      "text/plain": [
       "221282"
      ]
     },
     "execution_count": 9,
     "metadata": {},
     "output_type": "execute_result"
    }
   ],
   "source": [
    "len(qa_pairs)"
   ]
  },
  {
   "cell_type": "code",
   "execution_count": 10,
   "id": "8b5d2d31-adb5-4603-be51-7c64a93b0490",
   "metadata": {},
   "outputs": [
    {
     "name": "stdout",
     "output_type": "stream",
     "text": [
      "\n",
      "Writing newly formatted file\n",
      "Done writing to a file\n"
     ]
    }
   ],
   "source": [
    "# writing the Question Answer pairs to a file\n",
    "datafile = os.path.join('cornell movie-dialogs corpus', '/Users/bandito/Documents/usdjourney/formatted_movie_lines.txt')\n",
    "delimiter = '\\t'\n",
    "#unescape the delimiter\n",
    "delimiter = str(codecs.decode(delimiter, 'unicode_escape'))\n",
    "\n",
    "#write new csv file\n",
    "print('\\nWriting formatted file')\n",
    "with open(datafile, 'w', encoding='utf-8') as f:\n",
    "    writer = csv.writer(f, delimiter=delimiter)\n",
    "    for pair in qa_pairs:\n",
    "        writer.writerow(pair)\n",
    "print('Done')"
   ]
  },
  {
   "cell_type": "code",
   "execution_count": 11,
   "id": "e5c4a390-be97-4dad-9640-4c95fc3bfdbe",
   "metadata": {},
   "outputs": [
    {
     "name": "stdout",
     "output_type": "stream",
     "text": [
      "Can we make this quick?  Roxanne Korrine and Andrew Barrett are having an incredibly horrendous public break- up on the quad.  Again.\tWell, I thought we'd start with pronunciation, if that's okay with you.\n",
      "\n",
      "Well, I thought we'd start with pronunciation, if that's okay with you.\tNot the hacking and gagging and spitting part.  Please.\n",
      "\n",
      "Not the hacking and gagging and spitting part.  Please.\tOkay... then how 'bout we try out some French cuisine.  Saturday?  Night?\n",
      "\n",
      "You're asking me out.  That's so cute. What's your name again?\tForget it.\n",
      "\n",
      "No, no, it's my fault -- we didn't have a proper introduction ---\tCameron.\n",
      "\n",
      "Cameron.\tThe thing is, Cameron -- I'm at the mercy of a particularly hideous breed of loser.  My sister.  I can't date until she does.\n",
      "\n",
      "The thing is, Cameron -- I'm at the mercy of a particularly hideous breed of loser.  My sister.  I can't date until she does.\tSeems like she could get a date easy enough...\n",
      "\n",
      "Why?\tUnsolved mystery.  She used to be really popular when she started high school, then it was just like she got sick of it or something.\n",
      "\n"
     ]
    }
   ],
   "source": [
    "# visualize \n",
    "datafile = os.path.join('cornell movie-dialogs corpus', '/Users/bandito/Documents/usdjourney/formatted_movie_lines.txt')\n",
    "with open(datafile, 'r') as file:\n",
    "    lines = file.readlines()\n",
    "for line in lines[:8]:\n",
    "    print(line)"
   ]
  },
  {
   "cell_type": "code",
   "execution_count": 12,
   "id": "ae0bd62b-5f2b-40a1-9cac-44e011fd4f7e",
   "metadata": {},
   "outputs": [],
   "source": [
    "PAD_token = 0 # used for padding\n",
    "SOS_token = 1 # start of sentence \n",
    "EOS_token = 2 # End of sentence token \n",
    "\n",
    "class Vocabulary:\n",
    "    def __init__(self, name):\n",
    "        self.name = name\n",
    "        self.word2index = {}\n",
    "        self.word2count = {}\n",
    "        self.index2word = {PAD_token:'PAD', SOS_token:'SOS', EOS_token:'EOS'}\n",
    "        self.num_words = 3 #count tokens\n",
    "    \n",
    "    def addSentence(self, sentence):\n",
    "        for word in sentence.split(' '):\n",
    "            self.addWord(word)\n",
    "    \n",
    "    def addWord(self, word):\n",
    "        if word not in self.word2index:\n",
    "            self.word2index[word] = self.num_words\n",
    "            self.word2count[word] = 1\n",
    "            self.index2word[self.num_words] = word\n",
    "            self.num_words +=1\n",
    "        else:\n",
    "            self.word2count[word] += 1\n",
    "        \n",
    "    def trim(self, min_count):\n",
    "        keep_words = []\n",
    "        for k,v in self.word2count.items():\n",
    "            if v >= min_count:\n",
    "                keep_words.append(k)\n",
    "        print('Keep_words {} / {} = {:.4f}'.format(len(keep_words),len(self.word2index),len(keep_words)/len(self.word2index)))\n",
    "        \n",
    "        # reinitialize dictionaries\n",
    "        self.word2index = {}\n",
    "        self.word2count = {}\n",
    "        self.index2word = {PAD_token:'PAD', SOS_token:'SOS', EOS_token:'EOS'}\n",
    "        self.num_words = 3 # sanity check\n",
    "        \n",
    "        for word in keep_words:\n",
    "            self.addWord(word)"
   ]
  },
  {
   "cell_type": "code",
   "execution_count": 13,
   "id": "bb3ff72d-a89a-42d1-812d-94c5f88d1cff",
   "metadata": {},
   "outputs": [],
   "source": [
    "# Unicode to ASCII\n",
    "def unicodeToAscii(s):\n",
    "    return ''.join(c for c in unicodedata.normalize('NFD', s) if unicodedata.category(c) != 'Mn')"
   ]
  },
  {
   "cell_type": "code",
   "execution_count": 14,
   "id": "8d788f23-738f-4a8f-86f2-aeb4ea62d585",
   "metadata": {},
   "outputs": [
    {
     "data": {
      "text/plain": [
       "'Montreal'"
      ]
     },
     "execution_count": 14,
     "metadata": {},
     "output_type": "execute_result"
    }
   ],
   "source": [
    "# Test the function\n",
    "unicodeToAscii('Montréal')"
   ]
  },
  {
   "cell_type": "code",
   "execution_count": 15,
   "id": "e552d084-a58e-4840-aa88-3fea3f5e1070",
   "metadata": {},
   "outputs": [],
   "source": [
    "# string processing\n",
    "def normalizeString(s):\n",
    "    s = unicodeToAscii(s.lower().strip())\n",
    "    # replace whitespace + symbol\n",
    "    s = re.sub(r'([.!?])', r' \\1', s)\n",
    "    # remove non-sequence chars\n",
    "    s = re.sub(r'[^a-zA-Z.!?]+', r' ', s)\n",
    "    # remove whitespace\n",
    "    s = re.sub(r'\\s+', r' ', s).strip()\n",
    "    return s"
   ]
  },
  {
   "cell_type": "code",
   "execution_count": 16,
   "id": "ebd34ad1-6f61-469e-b36d-fe05740ec4e0",
   "metadata": {},
   "outputs": [
    {
     "data": {
      "text/plain": [
       "'aaa !s s df ? ? ? a'"
      ]
     },
     "execution_count": 16,
     "metadata": {},
     "output_type": "execute_result"
    }
   ],
   "source": [
    "# visualize result\n",
    "normalizeString('aaa243998!s\"s  df?? ? 1a')"
   ]
  },
  {
   "cell_type": "code",
   "execution_count": 17,
   "id": "7cc2f97a-ef47-44ee-b41d-1a05829eb606",
   "metadata": {},
   "outputs": [
    {
     "name": "stdout",
     "output_type": "stream",
     "text": [
      "Reading and processing file.....please wait\n",
      "Done Reading!\n"
     ]
    }
   ],
   "source": [
    "datafile = os.path.join('cornell movie-dialogs corpus', '/Users/bandito/Documents/usdjourney/formatted_movie_lines.txt')\n",
    "# Read file and split lines\n",
    "print('Reading and processing file....')\n",
    "lines = open(datafile, encoding='utf-8').read().strip().split('\\n')\n",
    "# split line into pairs\n",
    "pairs = [[normalizeString(s) for s in pair.split('\\t')] for  pair in lines]\n",
    "print('Complete!')\n",
    "voc = Vocabulary('cornell movie-dialogs corpus')"
   ]
  },
  {
   "cell_type": "code",
   "execution_count": 18,
   "id": "39bee9c9-15f1-4c32-973c-7c2c56b731dc",
   "metadata": {},
   "outputs": [
    {
     "data": {
      "text/plain": [
       "[['can we make this quick ? roxanne korrine and andrew barrett are having an incredibly horrendous public break up on the quad . again .',\n",
       "  'well i thought we d start with pronunciation if that s okay with you .'],\n",
       " ['well i thought we d start with pronunciation if that s okay with you .',\n",
       "  'not the hacking and gagging and spitting part . please .'],\n",
       " ['not the hacking and gagging and spitting part . please .',\n",
       "  'okay . . . then how bout we try out some french cuisine . saturday ? night ?'],\n",
       " ['you re asking me out . that s so cute . what s your name again ?',\n",
       "  'forget it .'],\n",
       " ['no no it s my fault we didn t have a proper introduction', 'cameron .']]"
      ]
     },
     "execution_count": 18,
     "metadata": {},
     "output_type": "execute_result"
    }
   ],
   "source": [
    "pairs[:5]"
   ]
  },
  {
   "cell_type": "code",
   "execution_count": 19,
   "id": "227efa0a-299e-4c8a-aaa4-0f281bc63c94",
   "metadata": {},
   "outputs": [],
   "source": [
    "# returns true if both sentences in a pair are under MAX_LENGTH\n",
    "MAX_LENGTH = 10\n",
    "def filterPair(p):\n",
    "    return len(p[0].split()) < MAX_LENGTH and len(p[1].split()) < MAX_LENGTH\n",
    "\n",
    "# filter pairs using condition\n",
    "def filterPairs(pairs):\n",
    "    return [pair for pair in pairs if filterPair(pair)]"
   ]
  },
  {
   "cell_type": "code",
   "execution_count": 20,
   "id": "e596e5a6-9e11-49f2-b793-3f5bf8a187c5",
   "metadata": {},
   "outputs": [
    {
     "name": "stdout",
     "output_type": "stream",
     "text": [
      "There are 221282 pairs/conversations in the dataset.\n",
      "After filtering, there are 64271 pairs/conversations in the dataset\n"
     ]
    }
   ],
   "source": [
    "pairs = [pair for pair in pairs if len(pair)>1]\n",
    "print(f'There are {len(pairs)} pairs/conversations.')\n",
    "pairs = filterPairs(pairs)\n",
    "print(f'There are {len(pairs)} filtered pairs/conversations.')"
   ]
  },
  {
   "cell_type": "code",
   "execution_count": 21,
   "id": "2c1279c1-1a7a-4d58-a702-013df1d717a1",
   "metadata": {},
   "outputs": [
    {
     "name": "stdout",
     "output_type": "stream",
     "text": [
      "Counted words: 18008\n",
      "['there .', 'where ?']\n",
      "['you have my word . as a gentleman', 'you re sweet .']\n",
      "['hi .', 'looks like things worked out tonight huh ?']\n",
      "['you know chastity ?', 'i believe we share an art instructor']\n",
      "['have fun tonight ?', 'tons']\n",
      "['well no . . .', 'then that s all you had to say .']\n",
      "['then that s all you had to say .', 'but']\n",
      "['but', 'you always been this selfish ?']\n",
      "['do you listen to this crap ?', 'what crap ?']\n",
      "['what good stuff ?', 'the real you .']\n"
     ]
    }
   ],
   "source": [
    "for pair in pairs:\n",
    "    voc.addSentence(pair[0])\n",
    "    voc.addSentence(pair[1])\n",
    "print('Counted words:', voc.num_words)\n",
    "for pair in pairs[:10]:\n",
    "    print(pair)"
   ]
  },
  {
   "cell_type": "code",
   "execution_count": 22,
   "id": "5a945ff2-58af-4087-bcb2-e1c4fbe9ef95",
   "metadata": {},
   "outputs": [
    {
     "name": "stdout",
     "output_type": "stream",
     "text": [
      "Keep_words 7823 / 18005 = 0.4345\n",
      "Trimed from 64271 pairs to 53165, 0.8272 of total\n"
     ]
    }
   ],
   "source": [
    "MIN_COUNT = 3 # minimum word count for trimming\n",
    "\n",
    "def trimRareWords(voc, pairs, MIN_COUNT):\n",
    "    # trim words used under the MIN_COUNT \n",
    "    voc.trim(MIN_COUNT)\n",
    "    # filter out pairs with trimmed words\n",
    "    keep_pairs = []\n",
    "    for pair in pairs:\n",
    "        input_sentence = pair[0]\n",
    "        output_sentence = pair[1]\n",
    "        keep_input = True\n",
    "        keep_output = True\n",
    "        # check input sentence\n",
    "        for word in input_sentence.split():\n",
    "            if word not in voc.word2index:\n",
    "                keep_input = False\n",
    "                break\n",
    "        # check output sentence\n",
    "        for word in output_sentence.split():\n",
    "            if word not in voc.word2index:\n",
    "                keep_output = False\n",
    "                break\n",
    "        \n",
    "        if keep_input and keep_output:\n",
    "            keep_pairs.append(pair)\n",
    "        \n",
    "    print('Trimed from {} pairs to {}, {:.4f} of total'.format(len(pairs),len(keep_pairs),len(keep_pairs)/len(pairs)))\n",
    "    return keep_pairs\n",
    "    \n",
    "# Trim voc and pairs\n",
    "pairs = trimRareWords(voc, pairs, MIN_COUNT)"
   ]
  },
  {
   "cell_type": "markdown",
   "id": "f0b4f07c-7959-49e9-8f41-4d90aa6bcb46",
   "metadata": {},
   "source": [
    "# Data Preparation"
   ]
  },
  {
   "cell_type": "code",
   "execution_count": 23,
   "id": "48ecceb6-6271-4e37-a90c-e2b248c507f3",
   "metadata": {},
   "outputs": [],
   "source": [
    "def indexesFromSentence(voc, sentence):\n",
    "    return [voc.word2index[word] for word in sentence.split()]+[EOS_token]"
   ]
  },
  {
   "cell_type": "code",
   "execution_count": 24,
   "id": "b25c4dfa-7b0e-4270-b2bf-d6cc8e90f756",
   "metadata": {},
   "outputs": [
    {
     "data": {
      "text/plain": [
       "[7, 8, 9, 10, 4, 11, 12, 13, 2]"
      ]
     },
     "execution_count": 24,
     "metadata": {},
     "output_type": "execute_result"
    }
   ],
   "source": [
    "# visualize\n",
    "indexesFromSentence(voc, pairs[1][0])"
   ]
  },
  {
   "cell_type": "code",
   "execution_count": 25,
   "id": "5f2ca3b8-fee3-439e-a636-5b5c5a0fb71b",
   "metadata": {},
   "outputs": [
    {
     "name": "stdout",
     "output_type": "stream",
     "text": [
      "['there .', 'you have my word . as a gentleman', 'hi .', 'have fun tonight ?', 'well no . . .', 'then that s all you had to say .', 'but', 'do you listen to this crap ?', 'what good stuff ?', 'wow']\n",
      "10\n"
     ]
    },
    {
     "data": {
      "text/plain": [
       "[[3, 4, 2],\n",
       " [7, 8, 9, 10, 4, 11, 12, 13, 2],\n",
       " [16, 4, 2],\n",
       " [8, 31, 22, 6, 2],\n",
       " [33, 34, 4, 4, 4, 2],\n",
       " [35, 36, 37, 38, 7, 39, 40, 41, 4, 2],\n",
       " [42, 2],\n",
       " [47, 7, 48, 40, 45, 49, 6, 2],\n",
       " [50, 51, 52, 6, 2],\n",
       " [58, 2]]"
      ]
     },
     "execution_count": 25,
     "metadata": {},
     "output_type": "execute_result"
    }
   ],
   "source": [
    "inp = []\n",
    "out = []\n",
    "for pair in pairs[:10]:\n",
    "    inp.append(pair[0])\n",
    "    out.append(pair[1])\n",
    "print(inp)\n",
    "print(len(inp))\n",
    "indexes = [indexesFromSentence(voc, sent) for sent in inp]\n",
    "indexes"
   ]
  },
  {
   "cell_type": "code",
   "execution_count": 26,
   "id": "889faa91-f594-4e30-ab8c-bf8846d4c336",
   "metadata": {},
   "outputs": [],
   "source": [
    "def ZeroPadding(l, fillvalue=0):\n",
    "    return list(itertools.zip_longest(*l, fillvalue=fillvalue))"
   ]
  },
  {
   "cell_type": "code",
   "execution_count": 27,
   "id": "bd701d83-c27b-47a2-b588-f2e86bdcbb7a",
   "metadata": {},
   "outputs": [
    {
     "data": {
      "text/plain": [
       "10"
      ]
     },
     "execution_count": 27,
     "metadata": {},
     "output_type": "execute_result"
    }
   ],
   "source": [
    "leng = [len(ind) for ind in indexes]\n",
    "max(leng)"
   ]
  },
  {
   "cell_type": "code",
   "execution_count": 28,
   "id": "f69f3d0a-8009-479e-8989-8830242a8b02",
   "metadata": {},
   "outputs": [
    {
     "name": "stdout",
     "output_type": "stream",
     "text": [
      "10\n"
     ]
    },
    {
     "data": {
      "text/plain": [
       "[(3, 7, 16, 8, 33, 35, 42, 47, 50, 58),\n",
       " (4, 8, 4, 31, 34, 36, 2, 7, 51, 2),\n",
       " (2, 9, 2, 22, 4, 37, 0, 48, 52, 0),\n",
       " (0, 10, 0, 6, 4, 38, 0, 40, 6, 0),\n",
       " (0, 4, 0, 2, 4, 7, 0, 45, 2, 0),\n",
       " (0, 11, 0, 0, 2, 39, 0, 49, 0, 0),\n",
       " (0, 12, 0, 0, 0, 40, 0, 6, 0, 0),\n",
       " (0, 13, 0, 0, 0, 41, 0, 2, 0, 0),\n",
       " (0, 2, 0, 0, 0, 4, 0, 0, 0, 0),\n",
       " (0, 0, 0, 0, 0, 2, 0, 0, 0, 0)]"
      ]
     },
     "execution_count": 28,
     "metadata": {},
     "output_type": "execute_result"
    }
   ],
   "source": [
    "# visualize\n",
    "test_result = ZeroPadding(indexes)\n",
    "print(len(test_result))\n",
    "test_result\n"
   ]
  },
  {
   "cell_type": "code",
   "execution_count": 29,
   "id": "92093f5c-ee19-48fa-bcb6-e60cc680fd91",
   "metadata": {},
   "outputs": [],
   "source": [
    "def binaryMatrix(l, value=0):\n",
    "    m = []\n",
    "    for i, seq in enumerate(l):\n",
    "        m.append([])\n",
    "        for token in seq:\n",
    "            if token == PAD_token:\n",
    "                m[i].append(0)\n",
    "            else:\n",
    "                m[i].append(1)\n",
    "    return m"
   ]
  },
  {
   "cell_type": "code",
   "execution_count": 30,
   "id": "c134a4f8-2345-4d79-956e-0c7a796596eb",
   "metadata": {},
   "outputs": [
    {
     "data": {
      "text/plain": [
       "[[1, 1, 1, 1, 1, 1, 1, 1, 1, 1],\n",
       " [1, 1, 1, 1, 1, 1, 1, 1, 1, 1],\n",
       " [1, 1, 1, 1, 1, 1, 0, 1, 1, 0],\n",
       " [0, 1, 0, 1, 1, 1, 0, 1, 1, 0],\n",
       " [0, 1, 0, 1, 1, 1, 0, 1, 1, 0],\n",
       " [0, 1, 0, 0, 1, 1, 0, 1, 0, 0],\n",
       " [0, 1, 0, 0, 0, 1, 0, 1, 0, 0],\n",
       " [0, 1, 0, 0, 0, 1, 0, 1, 0, 0],\n",
       " [0, 1, 0, 0, 0, 1, 0, 0, 0, 0],\n",
       " [0, 0, 0, 0, 0, 1, 0, 0, 0, 0]]"
      ]
     },
     "execution_count": 30,
     "metadata": {},
     "output_type": "execute_result"
    }
   ],
   "source": [
    "binary_result = binaryMatrix(test_result)\n",
    "binary_result"
   ]
  },
  {
   "cell_type": "code",
   "execution_count": 31,
   "id": "cf6fad0d-e222-4a03-b2bc-81819695e909",
   "metadata": {},
   "outputs": [],
   "source": [
    "# returns padded input sequence as well as a tensor of lengths of inputs\n",
    "def inputVar(l,voc):\n",
    "    indexes_batch = [indexesFromSentence(voc, sentence) for sentence in l]\n",
    "    lengths = torch.tensor([len(indexes) for indexes in indexes_batch])\n",
    "    padList = ZeroPadding(indexes_batch)\n",
    "    padVar = torch.LongTensor(padList)\n",
    "    return padVar, lengths"
   ]
  },
  {
   "cell_type": "code",
   "execution_count": 32,
   "id": "51f31e3c-7104-4dc2-b822-efed350efed4",
   "metadata": {},
   "outputs": [],
   "source": [
    "# for target sequence\n",
    "def outputVar(l,voc):\n",
    "    indexes_batch = [indexesFromSentence(voc, sentence) for sentence in l]\n",
    "    max_target_len = max([len(indexes) for indexes in indexes_batch])\n",
    "    padList = ZeroPadding(indexes_batch)\n",
    "    mask = binaryMatrix(padList)\n",
    "    mask = torch.ByteTensor(mask)\n",
    "    padVar = torch.LongTensor(padList)\n",
    "    return padVar, mask, max_target_len"
   ]
  },
  {
   "cell_type": "code",
   "execution_count": 33,
   "id": "0b159fe1-1bc5-4eac-bc6f-3627315d9222",
   "metadata": {},
   "outputs": [],
   "source": [
    "# Returns all items for a given batch of pairs\n",
    "def batch2TrainData(voc, pair_batch):\n",
    "    #Sort the questions in descending length\n",
    "    pair_batch.sort(key=lambda x:len(x[0].split()), reverse=True)\n",
    "    input_batch, output_batch = [],[]\n",
    "    for pair in pair_batch:\n",
    "        input_batch.append(pair[0])\n",
    "        output_batch.append(pair[1])\n",
    "    inp, lengths = inputVar(input_batch, voc)\n",
    "\n",
    "    output, mask, max_target_len = outputVar(output_batch, voc)\n",
    "    return inp, lengths, output, mask, max_target_len"
   ]
  },
  {
   "cell_type": "code",
   "execution_count": 34,
   "id": "0c9cdd2b-e7b5-41ef-b0cc-f407e3920ebb",
   "metadata": {},
   "outputs": [
    {
     "name": "stdout",
     "output_type": "stream",
     "text": [
      "input variable: tensor([[ 281,   34,    5,  785,  625],\n",
      "        [  25,    4,  115,    4,    4],\n",
      "        [  47,   25,   70,    2,    2],\n",
      "        [  76,  200, 5123,    0,    0],\n",
      "        [  94, 5198,    6,    0,    0],\n",
      "        [  27, 2496,    2,    0,    0],\n",
      "        [  60,    4,    0,    0,    0],\n",
      "        [   6,    2,    0,    0,    0],\n",
      "        [   2,    0,    0,    0,    0]])\n",
      "lengths: tensor([9, 8, 6, 3, 3])\n",
      "target variable: tensor([[ 239,  124, 2131,   50,   76],\n",
      "        [  23,   36,  143,    6,  450],\n",
      "        [   4,   37,  145,    2,   89],\n",
      "        [   2,  780,    4,    0,  368],\n",
      "        [   0,    4,    2,    0,  266],\n",
      "        [   0,    2,    0,    0, 1034],\n",
      "        [   0,    0,    0,    0,   27],\n",
      "        [   0,    0,    0,    0,  882],\n",
      "        [   0,    0,    0,    0,    4],\n",
      "        [   0,    0,    0,    0,    2]])\n",
      "mask: tensor([[1, 1, 1, 1, 1],\n",
      "        [1, 1, 1, 1, 1],\n",
      "        [1, 1, 1, 1, 1],\n",
      "        [1, 1, 1, 0, 1],\n",
      "        [0, 1, 1, 0, 1],\n",
      "        [0, 1, 0, 0, 1],\n",
      "        [0, 0, 0, 0, 1],\n",
      "        [0, 0, 0, 0, 1],\n",
      "        [0, 0, 0, 0, 1],\n",
      "        [0, 0, 0, 0, 1]], dtype=torch.uint8)\n",
      "max target len: 10\n"
     ]
    }
   ],
   "source": [
    "small_batch_size = 5\n",
    "batches = batch2TrainData(voc, [random.choice(pairs) for _ in range(small_batch_size)])\n",
    "input_variable, lengths, target_variable, mask, max_target_len = batches\n",
    "\n",
    "print('input variable:', input_variable)\n",
    "print('lengths:', lengths)\n",
    "print('target variable:', target_variable)\n",
    "print('mask:', mask)\n",
    "print('max target len:', max_target_len)"
   ]
  },
  {
   "cell_type": "markdown",
   "id": "e9e9a828-9b7a-42f4-b378-59dfce3e9ff3",
   "metadata": {},
   "source": [
    "# Building the model"
   ]
  },
  {
   "cell_type": "markdown",
   "id": "4e1b86b0-fe03-4b44-ab8b-b5a026135a0d",
   "metadata": {},
   "source": [
    "## Creating the encoder"
   ]
  },
  {
   "cell_type": "code",
   "execution_count": 35,
   "id": "791b60e1-ee4b-4844-8e61-8209e574a27d",
   "metadata": {},
   "outputs": [],
   "source": [
    "\n",
    "class EncoderRNN(nn.Module):\n",
    "    def __init__(self, hidden_size, embedding, n_layers=1, dropout=0):\n",
    "        super(EncoderRNN, self).__init__()\n",
    "        self.n_layers = n_layers\n",
    "        self.hidden_size = hidden_size\n",
    "        self.embedding = embedding\n",
    "        # initialize GRU; the input_size and hidden_size params are both to hidden_size\n",
    "        # becuz our input size is a word embedding with num of features == hidden size\n",
    "        self.gru = nn.GRU(hidden_size, hidden_size, n_layers, dropout=(0 if n_layers == 1 else dropout), bidirectional=True)\n",
    "        \n",
    "    def forward(self, input_seq, input_lengths, hidden=None):\n",
    "        # input_seq : batch of input sentences; shape(max_len, batch_size)\n",
    "        # input_lengths: list of sentence lengths correspoding to each sentence in the batch\n",
    "        # hidden state of shape: (n_layers x num_direction, batch_size, hidden_size)\n",
    "        \n",
    "        #Convert word indexes to embeddings\n",
    "        embedded = self.embedding(input_seq)\n",
    "        \n",
    "        # Pack padded batch of sequences for RNN\n",
    "        packed = torch.nn.utils.rnn.pack_padded_sequence(embedded, input_lengths)\n",
    "        \n",
    "        # Forward pass through GRU\n",
    "        outputs, hidden = self.gru(packed, hidden)\n",
    "        \n",
    "        #unpack the padding\n",
    "        outputs, _ = torch.nn.utils.rnn.pad_packed_sequence(outputs)\n",
    "        \n",
    "        #sum bidirectional GRU outputs\n",
    "        outputs = outputs[:,:,:self.hidden_size] + outputs[:,:,self.hidden_size:]\n",
    "        \n",
    "        # Return output and final hidden state\n",
    "        return outputs, hidden"
   ]
  },
  {
   "cell_type": "markdown",
   "id": "54442030-fc74-4646-af91-9005902babf2",
   "metadata": {},
   "source": [
    "## Attention Mechanism"
   ]
  },
  {
   "cell_type": "code",
   "execution_count": 36,
   "id": "03558c5d-50c0-45ed-8a9b-d52d75f603fa",
   "metadata": {},
   "outputs": [],
   "source": [
    "# Luong attention layer\n",
    "class Attn(torch.nn.Module):\n",
    "    def __init__(self, method, hidden_size):\n",
    "        super(Attn, self).__init__()\n",
    "        self.method = method\n",
    "        self.hidden_size = hidden_size\n",
    "    \n",
    "    def dot_score(self, hidden, encoder_output):\n",
    "        # Element wise multiply the current target decoder state with  encoder output and sum them\n",
    "        return torch.sum(hidden * encoder_output, dim=2)\n",
    "\n",
    "    def forward(self, hidden, encoder_outputs):\n",
    "        '''\n",
    "            Hidden = shape(1,batch_size, hidden_size)\n",
    "            encoder_outputs = shape(max_length, batch_size)\n",
    "            \n",
    "            returns sum(hidden*encoder_output)\n",
    "        '''\n",
    "        attn_energies = self.dot_score(hidden, encoder_outputs) #shape=(max_length. batch_size)\n",
    "        \n",
    "        # Transpose dim\n",
    "        attn_energies = attn_energies.t()\n",
    "        \n",
    "        #return softmax of attn energies\n",
    "        return F.softmax(attn_energies, dim=1).unsqueeze(1) #shape=(batch_size,1,ma"
   ]
  },
  {
   "cell_type": "markdown",
   "id": "1ba08a7d-ecf4-496d-8d24-eb0b6988e664",
   "metadata": {},
   "source": [
    "## Creating the decoder"
   ]
  },
  {
   "cell_type": "code",
   "execution_count": 37,
   "id": "61376e5c-662e-4b7e-9828-bcd00c61f004",
   "metadata": {},
   "outputs": [],
   "source": [
    "class LuongAttnDecoderRNN(nn.Module):\n",
    "    def __init__(self, attn_model, embedding, hidden_size, output_size, n_layers=1,  dropout=0.1):\n",
    "        super(LuongAttnDecoderRNN, self).__init__()\n",
    "        self.attn_model = attn_model\n",
    "        self.hidden_size = hidden_size\n",
    "        self.output_size = output_size\n",
    "        self.n_layers = n_layers\n",
    "        self.dropout = dropout\n",
    "        \n",
    "        # Defining layers\n",
    "        self.embedding = embedding\n",
    "        self.embedding_dropout = nn.Dropout(dropout)\n",
    "        self.gru = nn.GRU(hidden_size, hidden_size, n_layers, dropout=(0 if n_layers==1 else dropout))\n",
    "        self.concat = nn.Linear(hidden_size*2, hidden_size)\n",
    "        self.out = nn.Linear(hidden_size, output_size)\n",
    "        \n",
    "        self.attn = Attn(attn_model, hidden_size)\n",
    "        \n",
    "    def forward(self, input_step, last_hidden, encoder_outputs):\n",
    "        '''\n",
    "            input_step: one time step of input seq batch; shape=(1, batch_size)\n",
    "            last_hidden: final hidden layer of GRU; shape=(n_layers*num_directions, batch_size, hidden_size)\n",
    "            encoder_outputs: encoder model's output; shape=(max_length, batch_size, hidden_size)\n",
    "            we run this one step(word) at a time\n",
    "            \n",
    "            Output: \n",
    "            softmax normalized tensor giving probabilities for each word being correct next word in the decoded sequence\n",
    "            shape=(batch_size, voc.num_words)\n",
    "            hidden: final hidden state of GRU; shape=(n_layers x num_direction, batch_size, hidden_size)\n",
    "        '''\n",
    "        # Get embedding of current input word\n",
    "        embedded = self.embedding(input_step)\n",
    "        embedded = self.embedding_dropout(embedded)\n",
    "        \n",
    "        # Forward pass\n",
    "        rnn_output, hidden = self.gru(embedded, last_hidden)\n",
    "        \n",
    "        # Calculate attention weights from current GRU output\n",
    "        attn_weights = self.attn(rnn_output, encoder_outputs)\n",
    "        \n",
    "        # Multiply attention weights to encoder output to get the weighted sum of the context vector\n",
    "        # (batch_size, 1, max_length) bmm with (batch_size,max_length,hidden) = (batch_size,1,hidden)\n",
    "        context = attn_weights.bmm(encoder_outputs.transpose(0,1))\n",
    "        # Concatenate weighted context vector and GRU output\n",
    "        rnn_output = rnn_output.squeeze(0)\n",
    "        context = context.squeeze(1)\n",
    "        \n",
    "        concat_input = torch.cat((rnn_output, context), 1)\n",
    "        concat_output = torch.tanh(self.concat(concat_input))\n",
    "        \n",
    "        # Predict next word using Luong eq. 6\n",
    "        output = self.out(concat_output)\n",
    "        output = F.softmax(output, dim=1)\n",
    "        \n",
    "        # Return output and final hidden state\n",
    "        return output, hidden"
   ]
  },
  {
   "cell_type": "markdown",
   "id": "7a0594b4-eec9-45ed-b68b-3eafcb2695e0",
   "metadata": {},
   "source": [
    "## Creating the loss function"
   ]
  },
  {
   "cell_type": "code",
   "execution_count": 40,
   "id": "3dda3679-b8a5-4674-bc1e-1626d45de9ad",
   "metadata": {},
   "outputs": [],
   "source": [
    "def maskNLLLLoss(decoder_out, target, mask):\n",
    "    nTotal = mask.sum()\n",
    "    target = target.view(-1,1)\n",
    "    # Decoder out shape:(batch_size, vocab_size), target_size=(batch_size, 1)\n",
    "    gather_tensor = torch.gather(decoder_out, 1, target)\n",
    "    # Calculate the negative log likelihood loss\n",
    "    crossEntropy = -torch.log(gather_tensor)\n",
    "    #select non-zero elements\n",
    "    loss = crossEntropy.masked_select(mask.bool())\n",
    "    # Calculate the mean of the loss\n",
    "    loss = loss.mean()\n",
    "    loss = loss.to(device)\n",
    "    return loss, nTotal.item()"
   ]
  },
  {
   "cell_type": "code",
   "execution_count": 41,
   "id": "6d599b96-5a9a-407d-a885-cd82e461ef62",
   "metadata": {},
   "outputs": [
    {
     "name": "stdout",
     "output_type": "stream",
     "text": [
      "input variable shape: torch.Size([10, 5])\n",
      "length shapes: torch.Size([5])\n",
      "target variable shape: torch.Size([7, 5])\n",
      "mask shape: torch.Size([7, 5])\n",
      "max target len: 7\n",
      "Encoder outputs shape:  torch.Size([10, 5, 500])\n",
      "Last Encoder Hidden Shape torch.Size([4, 5, 500])\n",
      "Initial Decoder input shape: torch.Size([1, 5])\n",
      "tensor([[1, 1, 1, 1, 1]])\n",
      "Initial Decoder hidden state shape: torch.Size([2, 5, 500])\n",
      "\n",
      "\n",
      "..................................................\n",
      "Now Lets look at whats happening in every timestep of a GRU\n",
      "..................................................\n",
      "\n",
      "\n",
      "Decoder output shape: torch.Size([5, 7826])\n",
      "Decoder Hidden shape: torch.Size([2, 5, 500])\n",
      "The target variable at current timestep before reshaping: tensor([  76,   25,  354, 1014,   33])\n",
      "The shape of target variable at current timestep before reshaping: torch.Size([5])\n",
      "Decoder input shae: torch.Size([1, 5])\n",
      "The mask at the current timestep: tensor([1, 1, 1, 1, 1], dtype=torch.uint8)\n",
      "Teh shape of mask: torch.Size([5])\n",
      "Mask loss: tensor(8.9922, grad_fn=<MeanBackward0>)\n",
      "Total; 5\n",
      "[44.96102809906006]\n",
      "5\n",
      "Returned Loss: 8.992205619812012\n",
      "\n",
      "\n",
      ".............................. Done one timestep ..............................\n",
      "\n",
      "\n",
      "Decoder output shape: torch.Size([5, 7826])\n",
      "Decoder Hidden shape: torch.Size([2, 5, 500])\n",
      "The target variable at current timestep before reshaping: tensor([  37,  410, 2254, 2527,   77])\n",
      "The shape of target variable at current timestep before reshaping: torch.Size([5])\n",
      "Decoder input shae: torch.Size([1, 5])\n",
      "The mask at the current timestep: tensor([1, 1, 1, 1, 1], dtype=torch.uint8)\n",
      "Teh shape of mask: torch.Size([5])\n",
      "Mask loss: tensor(8.9660, grad_fn=<MeanBackward0>)\n",
      "Total; 5\n",
      "[44.96102809906006, 44.829864501953125]\n",
      "10\n",
      "Returned Loss: 8.979089260101318\n",
      "\n",
      "\n",
      ".............................. Done one timestep ..............................\n",
      "\n",
      "\n",
      "Decoder output shape: torch.Size([5, 7826])\n",
      "Decoder Hidden shape: torch.Size([2, 5, 500])\n",
      "The target variable at current timestep before reshaping: tensor([ 869, 1841, 1237, 1014,   92])\n",
      "The shape of target variable at current timestep before reshaping: torch.Size([5])\n",
      "Decoder input shae: torch.Size([1, 5])\n",
      "The mask at the current timestep: tensor([1, 1, 1, 1, 1], dtype=torch.uint8)\n",
      "Teh shape of mask: torch.Size([5])\n",
      "Mask loss: tensor(8.9630, grad_fn=<MeanBackward0>)\n",
      "Total; 5\n",
      "[44.96102809906006, 44.829864501953125, 44.81476306915283]\n",
      "15\n",
      "Returned Loss: 8.973710378011068\n",
      "\n",
      "\n",
      ".............................. Done one timestep ..............................\n",
      "\n",
      "\n",
      "Decoder output shape: torch.Size([5, 7826])\n",
      "Decoder Hidden shape: torch.Size([2, 5, 500])\n",
      "The target variable at current timestep before reshaping: tensor([ 4,  4,  6, 68,  7])\n",
      "The shape of target variable at current timestep before reshaping: torch.Size([5])\n",
      "Decoder input shae: torch.Size([1, 5])\n",
      "The mask at the current timestep: tensor([1, 1, 1, 1, 1], dtype=torch.uint8)\n",
      "Teh shape of mask: torch.Size([5])\n",
      "Mask loss: tensor(8.9780, grad_fn=<MeanBackward0>)\n",
      "Total; 5\n",
      "[44.96102809906006, 44.829864501953125, 44.81476306915283, 44.890241622924805]\n",
      "20\n",
      "Returned Loss: 8.974794864654541\n",
      "\n",
      "\n",
      ".............................. Done one timestep ..............................\n",
      "\n",
      "\n",
      "Decoder output shape: torch.Size([5, 7826])\n",
      "Decoder Hidden shape: torch.Size([2, 5, 500])\n",
      "The target variable at current timestep before reshaping: tensor([ 2,  2,  2, 45, 35])\n",
      "The shape of target variable at current timestep before reshaping: torch.Size([5])\n",
      "Decoder input shae: torch.Size([1, 5])\n",
      "The mask at the current timestep: tensor([1, 1, 1, 1, 1], dtype=torch.uint8)\n",
      "Teh shape of mask: torch.Size([5])\n",
      "Mask loss: tensor(8.9904, grad_fn=<MeanBackward0>)\n",
      "Total; 5\n",
      "[44.96102809906006, 44.829864501953125, 44.81476306915283, 44.890241622924805, 44.95201587677002]\n",
      "25\n",
      "Returned Loss: 8.977916526794434\n",
      "\n",
      "\n",
      ".............................. Done one timestep ..............................\n",
      "\n",
      "\n",
      "Decoder output shape: torch.Size([5, 7826])\n",
      "Decoder Hidden shape: torch.Size([2, 5, 500])\n",
      "The target variable at current timestep before reshaping: tensor([0, 0, 0, 6, 6])\n",
      "The shape of target variable at current timestep before reshaping: torch.Size([5])\n",
      "Decoder input shae: torch.Size([1, 5])\n",
      "The mask at the current timestep: tensor([0, 0, 0, 1, 1], dtype=torch.uint8)\n",
      "Teh shape of mask: torch.Size([5])\n",
      "Mask loss: tensor(8.9228, grad_fn=<MeanBackward0>)\n",
      "Total; 2\n",
      "[44.96102809906006, 44.829864501953125, 44.81476306915283, 44.890241622924805, 44.95201587677002, 17.8456974029541]\n",
      "27\n",
      "Returned Loss: 8.973837428622776\n",
      "\n",
      "\n",
      ".............................. Done one timestep ..............................\n",
      "\n",
      "\n",
      "Decoder output shape: torch.Size([5, 7826])\n",
      "Decoder Hidden shape: torch.Size([2, 5, 500])\n",
      "The target variable at current timestep before reshaping: tensor([0, 0, 0, 2, 2])\n",
      "The shape of target variable at current timestep before reshaping: torch.Size([5])\n",
      "Decoder input shae: torch.Size([1, 5])\n",
      "The mask at the current timestep: tensor([0, 0, 0, 1, 1], dtype=torch.uint8)\n",
      "Teh shape of mask: torch.Size([5])\n",
      "Mask loss: tensor(8.9447, grad_fn=<MeanBackward0>)\n",
      "Total; 2\n",
      "[44.96102809906006, 44.829864501953125, 44.81476306915283, 44.890241622924805, 44.95201587677002, 17.8456974029541, 17.88949966430664]\n",
      "29\n",
      "Returned Loss: 8.97183138748695\n",
      "\n",
      "\n",
      ".............................. Done one timestep ..............................\n",
      "\n",
      "\n"
     ]
    }
   ],
   "source": [
    "# Visualizing what's happening in one iteration\n",
    "small_batch_size = 5\n",
    "batches = batch2TrainData(voc, [random.choice(pairs) for _ in range(small_batch_size)])\n",
    "input_variable, lengths, target_variable, mask, max_target_len = batches\n",
    "\n",
    "print('input variable shape:', input_variable.shape)\n",
    "print('length shapes:', lengths.shape)\n",
    "print('target variable shape:', target_variable.shape)\n",
    "print('mask shape:', mask.shape)\n",
    "print('max target len:', max_target_len)\n",
    "\n",
    "# Define the parameters\n",
    "hidden_size =500\n",
    "encoder_n_layers = 2\n",
    "decoder_n_layers = 2\n",
    "dropout = 0.1\n",
    "attn_model = 'dot'\n",
    "embedding = nn.Embedding(voc.num_words, hidden_size)\n",
    "\n",
    "# Define the encoder and decoder\n",
    "encoder = EncoderRNN(hidden_size, embedding, encoder_n_layers, dropout)\n",
    "decoder = LuongAttnDecoderRNN(attn_model, embedding, hidden_size, voc.num_words, decoder_n_layers, dropout)\n",
    "encoder = encoder.to(device)\n",
    "decoder = decoder.to(device)\n",
    "\n",
    "# Ensure dropout layers are in train mode\n",
    "encoder.train()\n",
    "decoder.train()\n",
    "\n",
    "# Initialize optimizers\n",
    "encoder_optimizer = optim.Adam(encoder.parameters(), lr=0.0001)\n",
    "decoder_optimizer = optim.Adam(decoder.parameters(), lr=0.0001)\n",
    "encoder_optimizer.zero_grad()\n",
    "decoder_optimizer.zero_grad()\n",
    "\n",
    "\n",
    "input_variable = input_variable.to(device)\n",
    "lengths = lengths.to(device) \n",
    "target_variable = target_variable.to(device)\n",
    "mask = mask.to(device)\n",
    "\n",
    "loss = 0\n",
    "print_losses = []\n",
    "n_totals = 0\n",
    "\n",
    "encoder_outputs, encoder_hidden = encoder(input_variable, lengths)\n",
    "print('Encoder outputs shape: ', encoder_outputs.shape)\n",
    "print('Last Encoder Hidden Shape', encoder_hidden.shape)\n",
    "\n",
    "decoder_input = torch.LongTensor([[SOS_token for _ in range(small_batch_size)]])\n",
    "decoder_input = decoder_input.to(device)\n",
    "print('Initial Decoder input shape:', decoder_input.shape)\n",
    "print(decoder_input)\n",
    "\n",
    "# Set the initial decoder hidden state to the encoder's final hidden state\n",
    "decoder_hidden = encoder_hidden[:decoder.n_layers]\n",
    "print('Initial Decoder hidden state shape:', decoder_hidden.shape)\n",
    "print('\\n')\n",
    "print('.'*50)\n",
    "print('Now Lets look at whats happening in every timestep of a GRU')\n",
    "print('.'*50)\n",
    "print('\\n')\n",
    "\n",
    "# Assume we are using Teacher Forcing\n",
    "for t in range(max_target_len):\n",
    "    decoder_output, decoder_hidden = decoder(decoder_input, decoder_hidden, encoder_outputs)\n",
    "    print('Decoder output shape:', decoder_output.shape)\n",
    "    print('Decoder Hidden shape:', decoder_hidden.shape)\n",
    "    \n",
    "    # Teacher forcing: next input is current target\n",
    "    decoder_input = target_variable[t].view(1, -1)\n",
    "    print('The target variable at current timestep before reshaping:', target_variable[t])\n",
    "    print('The shape of target variable at current timestep before reshaping:', target_variable[t].shape)\n",
    "    print('Decoder input shae:', decoder_input.shape)\n",
    "    \n",
    "    # Calculate and accumulate loss\n",
    "    print('The mask at the current timestep:', mask[t])\n",
    "    print('The shape of mask:', mask[t].shape)\n",
    "    \n",
    "    mask_loss, nTotal = maskNLLLLoss(decoder_output, target_variable[t], mask[t])\n",
    "    print('Mask loss:', mask_loss)\n",
    "    print('Total;', nTotal)\n",
    "    \n",
    "    loss += mask_loss\n",
    "    print_losses.append(mask_loss.item()*nTotal)\n",
    "    print(print_losses)\n",
    "    n_totals +=nTotal\n",
    "    print(n_totals)\n",
    "    \n",
    "    encoder_optimizer.step()\n",
    "    decoder_optimizer.step()\n",
    "    returned_loss = sum(print_losses) / n_totals\n",
    "    print('Returned Loss:', returned_loss)\n",
    "    print('\\n')\n",
    "    print('.'*30, 'Done one timestep', '.'*30)\n",
    "    print('\\n')"
   ]
  },
  {
   "cell_type": "code",
   "execution_count": 42,
   "id": "08aa1fc6-d6c8-4971-8d29-4917cd3917ac",
   "metadata": {},
   "outputs": [],
   "source": [
    "def train(input_variable, lengths, target_variable,\n",
    "          mask, max_target_len, encoder,\n",
    "          decoder, embedding, encoder_optimizer,\n",
    "          decoder_optimizer, batch_size,\n",
    "          clip, max_length=MAX_LENGTH):\n",
    "    \n",
    "    # Zero gradients\n",
    "    encoder_optimizer.zero_grad()\n",
    "    decoder_optimizer.zero_grad()\n",
    "    \n",
    "    # Set device options\n",
    "    input_variable = input_variable.to(device)\n",
    "    lengths = lengths.to(device)\n",
    "    target_variable = target_variable.to(device)\n",
    "    mask = mask.to(device)\n",
    "    \n",
    "    # initialize variable\n",
    "    loss = 0\n",
    "    print_losses = []\n",
    "    n_totals = 0\n",
    "    \n",
    "    # Forward pass through encoder\n",
    "    encoder_outputs, encoder_hidden = encoder(input_variable, lengths)\n",
    "    \n",
    "    # Create initial decoder input (start with SOS token)\n",
    "    decoder_input = torch.LongTensor([[SOS_token for _ in range(batch_size)]])\n",
    "    decoder_input = decoder_input.to(device)\n",
    "    \n",
    "    # Set initial decoder hidden state to the encoder's final hidden state\n",
    "    decoder_hidden = encoder_hidden[:decoder.n_layers]\n",
    "    \n",
    "    # Determine if we are using teacher forcing \n",
    "    use_teacher_forcing = True if random.random() < teacher_forcing_ratio else False\n",
    "    \n",
    "    # Forward pass\n",
    "    if use_teacher_forcing:\n",
    "        for t in range(max_target_len):\n",
    "            decoder_output, decoder_hidden = decoder(decoder_input, decoder_hidden, encoder_outputs)\n",
    "            # teacher forcing\n",
    "            decoder_input = target_variable[t].view(1,-1)\n",
    "            #calculate and accumulate loss\n",
    "            mask_loss, nTotal = maskNLLLLoss(decoder_output, target_variable[t], mask[t])\n",
    "            \n",
    "            loss += mask_loss \n",
    "            print_losses.append(mask_loss.item()*nTotal)\n",
    "            n_totals +=nTotal\n",
    "    else:\n",
    "        for t in range(max_target_len):\n",
    "            decoder_output, decoder_hidden = decoder(decoder_input, decoder_hidden, encoder_outputs)\n",
    "            # no teacher forcing\n",
    "            _, topi = decoder_output.topk(1)\n",
    "            decoder_input = torch.LongTensor([[topi[i][0] for i in range(batch_size)]])\n",
    "            decoder_input = decoder_input.to(device)\n",
    "            #calculate and accumulate loss\n",
    "            mask_loss, nTotal = maskNLLLLoss(decoder_output, tatget_variable[t], mask[t])\n",
    "            \n",
    "            loss += mask_loss \n",
    "            print_losses.append(mask_loss.item()*nTotal)\n",
    "            n_totals +=nTotal\n",
    "            \n",
    "    # Backpropagation\n",
    "    loss.backward()\n",
    "    \n",
    "    # Gradient Clipping\n",
    "    _ = nn.utils.clip_grad_norm_(encoder.parameters(), clip)\n",
    "    _ = nn.utils.clip_grad_norm_(decoder.parameters(), clip)\n",
    "    \n",
    "    # Adjust model weights\n",
    "    encoder_optimizer.step()\n",
    "    decoder_optimizer.step()\n",
    "    \n",
    "    return sum(print_losses) / n_totals"
   ]
  },
  {
   "cell_type": "code",
   "execution_count": 44,
   "id": "192c0b8c-41bc-4467-bf3f-db7ac925d7aa",
   "metadata": {},
   "outputs": [],
   "source": [
    "def trainIters(model_name, voc, pairs,\n",
    "               encoder, decoder,\n",
    "               encoder_optimizer, decoder_optimizer,\n",
    "               embedding, encoder_n_layers,\n",
    "               decoder_n_layers, save_dir,\n",
    "               n_iteration, batch_size, print_every,\n",
    "               save_every, clip, corpus_name, loadFilename):\n",
    "\n",
    "    # Load batches for each iteration\n",
    "    training_batches = [batch2TrainData(voc, [random.choice(pairs) for _ in range(batch_size)])\n",
    "                      for _ in range(n_iteration)]\n",
    "\n",
    "    # Initializations\n",
    "    print('Initializing ...')\n",
    "    start_iteration = 1\n",
    "    print_loss = 0\n",
    "    if loadFilename:\n",
    "        start_iteration = checkpoint['iteration'] + 1\n",
    "\n",
    "    # Training loop\n",
    "    print(\"Training...\")\n",
    "    for iteration in range(start_iteration, n_iteration + 1):\n",
    "        training_batch = training_batches[iteration - 1]\n",
    "        # Extract fields from batch\n",
    "        input_variable, lengths, target_variable, mask, max_target_len = training_batch\n",
    "\n",
    "        # Run a training iteration with batch\n",
    "        loss = train(input_variable, lengths, target_variable, mask, max_target_len, encoder,\n",
    "                     decoder, embedding, encoder_optimizer, decoder_optimizer, batch_size, clip)\n",
    "        print_loss += loss\n",
    "\n",
    "        # Print progress\n",
    "        if iteration % print_every == 0:\n",
    "            print_loss_avg = print_loss / print_every\n",
    "            print(\"Iteration: {}; Percent complete: {:.1f}%; Average loss: {:.4f}\".format(iteration, iteration / n_iteration * 100, print_loss_avg))\n",
    "            print_loss = 0\n",
    "\n",
    "        # Save checkpoint\n",
    "        if (iteration % save_every == 0):\n",
    "            directory = os.path.join(save_dir, model_name, corpus_name, '{}-{}_{}'.format(encoder_n_layers, decoder_n_layers, hidden_size))\n",
    "            if not os.path.exists(directory):\n",
    "                os.makedirs(directory)\n",
    "            torch.save({\n",
    "                'iteration': iteration,\n",
    "                'en': encoder.state_dict(),\n",
    "                'de': decoder.state_dict(),\n",
    "                'en_opt': encoder_optimizer.state_dict(),\n",
    "                'de_opt': decoder_optimizer.state_dict(),\n",
    "                'loss': loss,\n",
    "                'voc_dict': voc.__dict__,\n",
    "                'embedding': embedding.state_dict()\n",
    "            }, os.path.join(directory, '{}_{}.tar'.format(iteration, 'checkpoint')))"
   ]
  },
  {
   "cell_type": "markdown",
   "id": "4ff1e232-bf23-40db-afd2-72861ee6e7e5",
   "metadata": {},
   "source": [
    "## Greedy Decoding"
   ]
  },
  {
   "cell_type": "code",
   "execution_count": 45,
   "id": "8f8a5fe9-b555-4f48-8f8b-0fbd59eebbf8",
   "metadata": {},
   "outputs": [],
   "source": [
    "class GreedySearchDecoder(nn.Module):\n",
    "    def __init__(self, encoder, decoder):\n",
    "        super(GreedySearchDecoder, self).__init__()\n",
    "        self.encoder = encoder\n",
    "        self.decoder = decoder\n",
    "\n",
    "    def forward(self, input_seq, input_length, max_length):\n",
    "        # Forward input through encoder model\n",
    "        encoder_outputs, encoder_hidden = self.encoder(input_seq, input_length)\n",
    "        # Prepare encoder's final hidden layer to be first hidden input to the decoder\n",
    "        decoder_hidden = encoder_hidden[:decoder.n_layers]\n",
    "        # Initialize decoder input with SOS_token\n",
    "        decoder_input = torch.ones(1, 1, device=device, dtype=torch.long) * SOS_token\n",
    "        # Initialize tensors to append decoded words to\n",
    "        all_tokens = torch.zeros([0], device=device, dtype=torch.long)\n",
    "        all_scores = torch.zeros([0], device=device)\n",
    "        # Iteratively decode one word token at a time\n",
    "        for _ in range(max_length):\n",
    "            # Forward pass through decoder\n",
    "            decoder_output, decoder_hidden = self.decoder(decoder_input, decoder_hidden, encoder_outputs)\n",
    "            # Obtain most likely word token and its softmax score\n",
    "            decoder_scores, decoder_input = torch.max(decoder_output, dim=1)\n",
    "            # Record token and score\n",
    "            all_tokens = torch.cat((all_tokens, decoder_input), dim=0)\n",
    "            all_scores = torch.cat((all_scores, decoder_scores), dim=0)\n",
    "            # Prepare current token to be next decoder input (add a dimension)\n",
    "            decoder_input = torch.unsqueeze(decoder_input, 0)\n",
    "        # Return collections of word tokens and scores\n",
    "        return all_tokens, all_scores"
   ]
  },
  {
   "cell_type": "code",
   "execution_count": 64,
   "id": "2f9614cd-9b57-4a3f-9b48-30964a7395b4",
   "metadata": {},
   "outputs": [],
   "source": [
    "def evaluate(encoder, decoder, searcher, voc, sentence, max_length=MAX_LENGTH):\n",
    "    ### Format input sentence as a batch\n",
    "    # words -> indexes\n",
    "    indexes_batch = [indexesFromSentence(voc, sentence)]\n",
    "    # Create lengths tensor\n",
    "    lengths = torch.tensor([len(indexes) for indexes in indexes_batch])\n",
    "    # Transpose dimensions of batch to match models' expectations\n",
    "    input_batch = torch.LongTensor(indexes_batch).transpose(0, 1)\n",
    "    # Use appropriate device\n",
    "    input_batch = input_batch.to(device)\n",
    "    lengths = lengths.to(device)\n",
    "    # Decode sentence with searcher\n",
    "    tokens, scores = searcher(input_batch, lengths, max_length)\n",
    "    # indexes -> words\n",
    "    decoded_words = [voc.index2word[token.item()] for token in tokens]\n",
    "    return decoded_words\n",
    "\n",
    "\n",
    "def evaluateInput(encoder, decoder, searcher, voc):\n",
    "    input_sentence = ''\n",
    "    while(1):\n",
    "        try:\n",
    "            # Get input sentence\n",
    "            input_sentence = input('> ')\n",
    "            # Check if it is quit case\n",
    "            if input_sentence == 'q' or input_sentence == 'quit': break\n",
    "            # Normalize sentence\n",
    "            input_sentence = normalizeString(input_sentence)\n",
    "            # Evaluate sentence\n",
    "            output_words = evaluate(encoder, decoder, searcher, voc, input_sentence)\n",
    "            # Format and print response sentence\n",
    "            output_words[:] = [x for x in output_words if not (x == 'EOS' or x == 'PAD')]\n",
    "            print('Bot:', ' '.join(output_words))\n",
    "\n",
    "        except KeyError:\n",
    "            print(\"Error: Unknown word.\")"
   ]
  },
  {
   "cell_type": "code",
   "execution_count": 47,
   "id": "662a937c-7f66-47df-af3d-40f3ea1edec1",
   "metadata": {},
   "outputs": [
    {
     "name": "stdout",
     "output_type": "stream",
     "text": [
      "Building encoder and decoder ...\n",
      "Models built and ready to go!\n"
     ]
    }
   ],
   "source": [
    "# Configure models\n",
    "model_name = 'chatbot_model'\n",
    "attn_model = 'dot'\n",
    "hidden_size = 500\n",
    "encoder_n_layers = 2\n",
    "decoder_n_layers = 2\n",
    "dropout = 0.1\n",
    "batch_size = 64\n",
    "\n",
    "# Set checkpoint to load (From Scratch = None)\n",
    "loadFilename = None\n",
    "checkpoint_iter = 4000\n",
    "\n",
    "# Load model if a loadFilename is provided\n",
    "if loadFilename:\n",
    "    checkpoint = torch.load(loadFilename)\n",
    "    encoder_sd = checkpoint['en']\n",
    "    decoder_sd = checkpoint['de']\n",
    "    encoder_optimizer_sd = checkpoint['en_opt']\n",
    "    decoder_optimizer_sd = checkpoint['de_opt']\n",
    "    embedding_sd = checkpoint['embedding']\n",
    "    voc.__dict__ = checkpoint['voc_dict']\n",
    "\n",
    "\n",
    "print('Building encoder and decoder ...')\n",
    "# Initialize word embeddings\n",
    "embedding = nn.Embedding(voc.num_words, hidden_size)\n",
    "if loadFilename:\n",
    "    embedding.load_state_dict(embedding_sd)\n",
    "# Initialize encoder & decoder models\n",
    "encoder = EncoderRNN(hidden_size, embedding, encoder_n_layers, dropout)\n",
    "decoder = LuongAttnDecoderRNN(attn_model, embedding, hidden_size, voc.num_words, decoder_n_layers, dropout)\n",
    "if loadFilename:\n",
    "    encoder.load_state_dict(encoder_sd)\n",
    "    decoder.load_state_dict(decoder_sd)\n",
    "# Use appropriate device\n",
    "encoder = encoder.to(device)\n",
    "decoder = decoder.to(device)\n",
    "print('Models built and ready to go!')"
   ]
  },
  {
   "cell_type": "code",
   "execution_count": 48,
   "id": "c6ce54dc-aa02-42ab-b3bf-e92456285399",
   "metadata": {},
   "outputs": [
    {
     "name": "stdout",
     "output_type": "stream",
     "text": [
      "Building optimizers ...\n",
      "Starting Training!\n",
      "Initializing ...\n",
      "Training...\n",
      "Iteration: 50; Percent complete: 1.0%; Average loss: 5.0197\n",
      "Iteration: 100; Percent complete: 2.0%; Average loss: 3.9113\n",
      "Iteration: 150; Percent complete: 3.0%; Average loss: 3.7072\n",
      "Iteration: 200; Percent complete: 4.0%; Average loss: 3.5221\n",
      "Iteration: 250; Percent complete: 5.0%; Average loss: 3.4446\n",
      "Iteration: 300; Percent complete: 6.0%; Average loss: 3.3437\n",
      "Iteration: 350; Percent complete: 7.0%; Average loss: 3.3015\n",
      "Iteration: 400; Percent complete: 8.0%; Average loss: 3.2849\n",
      "Iteration: 450; Percent complete: 9.0%; Average loss: 3.2486\n",
      "Iteration: 500; Percent complete: 10.0%; Average loss: 3.2147\n",
      "Iteration: 550; Percent complete: 11.0%; Average loss: 3.1515\n",
      "Iteration: 600; Percent complete: 12.0%; Average loss: 3.1369\n",
      "Iteration: 650; Percent complete: 13.0%; Average loss: 3.1116\n",
      "Iteration: 700; Percent complete: 14.0%; Average loss: 3.1012\n",
      "Iteration: 750; Percent complete: 15.0%; Average loss: 3.0269\n",
      "Iteration: 800; Percent complete: 16.0%; Average loss: 3.0251\n",
      "Iteration: 850; Percent complete: 17.0%; Average loss: 3.0300\n",
      "Iteration: 900; Percent complete: 18.0%; Average loss: 2.9804\n",
      "Iteration: 950; Percent complete: 19.0%; Average loss: 2.9830\n",
      "Iteration: 1000; Percent complete: 20.0%; Average loss: 2.9734\n",
      "Iteration: 1050; Percent complete: 21.0%; Average loss: 2.9421\n",
      "Iteration: 1100; Percent complete: 22.0%; Average loss: 2.9624\n",
      "Iteration: 1150; Percent complete: 23.0%; Average loss: 2.8726\n",
      "Iteration: 1200; Percent complete: 24.0%; Average loss: 2.8822\n",
      "Iteration: 1250; Percent complete: 25.0%; Average loss: 2.8383\n",
      "Iteration: 1300; Percent complete: 26.0%; Average loss: 2.8545\n",
      "Iteration: 1350; Percent complete: 27.0%; Average loss: 2.8109\n",
      "Iteration: 1400; Percent complete: 28.0%; Average loss: 2.8593\n",
      "Iteration: 1450; Percent complete: 29.0%; Average loss: 2.8180\n",
      "Iteration: 1500; Percent complete: 30.0%; Average loss: 2.7802\n",
      "Iteration: 1550; Percent complete: 31.0%; Average loss: 2.7850\n",
      "Iteration: 1600; Percent complete: 32.0%; Average loss: 2.7598\n",
      "Iteration: 1650; Percent complete: 33.0%; Average loss: 2.7450\n",
      "Iteration: 1700; Percent complete: 34.0%; Average loss: 2.7549\n",
      "Iteration: 1750; Percent complete: 35.0%; Average loss: 2.7213\n",
      "Iteration: 1800; Percent complete: 36.0%; Average loss: 2.7292\n",
      "Iteration: 1850; Percent complete: 37.0%; Average loss: 2.7031\n",
      "Iteration: 1900; Percent complete: 38.0%; Average loss: 2.6793\n",
      "Iteration: 1950; Percent complete: 39.0%; Average loss: 2.6790\n",
      "Iteration: 2000; Percent complete: 40.0%; Average loss: 2.6571\n",
      "Iteration: 2050; Percent complete: 41.0%; Average loss: 2.6550\n",
      "Iteration: 2100; Percent complete: 42.0%; Average loss: 2.6487\n",
      "Iteration: 2150; Percent complete: 43.0%; Average loss: 2.6387\n",
      "Iteration: 2200; Percent complete: 44.0%; Average loss: 2.6049\n",
      "Iteration: 2250; Percent complete: 45.0%; Average loss: 2.6112\n",
      "Iteration: 2300; Percent complete: 46.0%; Average loss: 2.6003\n",
      "Iteration: 2350; Percent complete: 47.0%; Average loss: 2.5703\n",
      "Iteration: 2400; Percent complete: 48.0%; Average loss: 2.5551\n",
      "Iteration: 2450; Percent complete: 49.0%; Average loss: 2.4961\n",
      "Iteration: 2500; Percent complete: 50.0%; Average loss: 2.5453\n",
      "Iteration: 2550; Percent complete: 51.0%; Average loss: 2.5520\n",
      "Iteration: 2600; Percent complete: 52.0%; Average loss: 2.4981\n",
      "Iteration: 2650; Percent complete: 53.0%; Average loss: 2.4975\n",
      "Iteration: 2700; Percent complete: 54.0%; Average loss: 2.4665\n",
      "Iteration: 2750; Percent complete: 55.0%; Average loss: 2.4896\n",
      "Iteration: 2800; Percent complete: 56.0%; Average loss: 2.4450\n",
      "Iteration: 2850; Percent complete: 57.0%; Average loss: 2.4373\n",
      "Iteration: 2900; Percent complete: 58.0%; Average loss: 2.4558\n",
      "Iteration: 2950; Percent complete: 59.0%; Average loss: 2.4045\n",
      "Iteration: 3000; Percent complete: 60.0%; Average loss: 2.4261\n",
      "Iteration: 3050; Percent complete: 61.0%; Average loss: 2.3771\n",
      "Iteration: 3100; Percent complete: 62.0%; Average loss: 2.3791\n",
      "Iteration: 3150; Percent complete: 63.0%; Average loss: 2.4264\n",
      "Iteration: 3200; Percent complete: 64.0%; Average loss: 2.3528\n",
      "Iteration: 3250; Percent complete: 65.0%; Average loss: 2.3543\n",
      "Iteration: 3300; Percent complete: 66.0%; Average loss: 2.3743\n",
      "Iteration: 3350; Percent complete: 67.0%; Average loss: 2.3029\n",
      "Iteration: 3400; Percent complete: 68.0%; Average loss: 2.3144\n",
      "Iteration: 3450; Percent complete: 69.0%; Average loss: 2.2998\n",
      "Iteration: 3500; Percent complete: 70.0%; Average loss: 2.2944\n",
      "Iteration: 3550; Percent complete: 71.0%; Average loss: 2.2720\n",
      "Iteration: 3600; Percent complete: 72.0%; Average loss: 2.2753\n",
      "Iteration: 3650; Percent complete: 73.0%; Average loss: 2.2422\n",
      "Iteration: 3700; Percent complete: 74.0%; Average loss: 2.2239\n",
      "Iteration: 3750; Percent complete: 75.0%; Average loss: 2.1933\n",
      "Iteration: 3800; Percent complete: 76.0%; Average loss: 2.2238\n",
      "Iteration: 3850; Percent complete: 77.0%; Average loss: 2.1993\n",
      "Iteration: 3900; Percent complete: 78.0%; Average loss: 2.1884\n",
      "Iteration: 3950; Percent complete: 79.0%; Average loss: 2.1901\n",
      "Iteration: 4000; Percent complete: 80.0%; Average loss: 2.1714\n",
      "Iteration: 4050; Percent complete: 81.0%; Average loss: 2.1626\n",
      "Iteration: 4100; Percent complete: 82.0%; Average loss: 2.1400\n",
      "Iteration: 4150; Percent complete: 83.0%; Average loss: 2.1328\n",
      "Iteration: 4200; Percent complete: 84.0%; Average loss: 2.1268\n",
      "Iteration: 4250; Percent complete: 85.0%; Average loss: 2.1169\n",
      "Iteration: 4300; Percent complete: 86.0%; Average loss: 2.0969\n",
      "Iteration: 4350; Percent complete: 87.0%; Average loss: 2.0486\n",
      "Iteration: 4400; Percent complete: 88.0%; Average loss: 2.0807\n",
      "Iteration: 4450; Percent complete: 89.0%; Average loss: 2.0203\n",
      "Iteration: 4500; Percent complete: 90.0%; Average loss: 2.0368\n",
      "Iteration: 4550; Percent complete: 91.0%; Average loss: 2.0174\n",
      "Iteration: 4600; Percent complete: 92.0%; Average loss: 2.0049\n",
      "Iteration: 4650; Percent complete: 93.0%; Average loss: 2.0047\n",
      "Iteration: 4700; Percent complete: 94.0%; Average loss: 1.9829\n",
      "Iteration: 4750; Percent complete: 95.0%; Average loss: 1.9824\n",
      "Iteration: 4800; Percent complete: 96.0%; Average loss: 1.9540\n",
      "Iteration: 4850; Percent complete: 97.0%; Average loss: 1.9392\n",
      "Iteration: 4900; Percent complete: 98.0%; Average loss: 1.9527\n",
      "Iteration: 4950; Percent complete: 99.0%; Average loss: 1.8738\n",
      "Iteration: 5000; Percent complete: 100.0%; Average loss: 1.8832\n"
     ]
    }
   ],
   "source": []
  },
  {
   "cell_type": "code",
   "execution_count": 49,
   "id": "f636fcbb-bc15-49c3-b611-eadb3438fd13",
   "metadata": {},
   "outputs": [],
   "source": [
    "# Set dropout layers to eval mode\n",
    "encoder.eval()\n",
    "decoder.eval()\n",
    "\n",
    "# Initialize search module\n",
    "searcher = GreedySearchDecoder(encoder, decoder)"
   ]
  },
  {
   "cell_type": "code",
   "execution_count": 63,
   "id": "bfee293b-9506-479b-9aa0-fd3eab9c682b",
   "metadata": {},
   "outputs": [
    {
     "name": "stdin",
     "output_type": "stream",
     "text": [
      ">  hello\n"
     ]
    },
    {
     "name": "stdout",
     "output_type": "stream",
     "text": [
      "Bot: hello .\n"
     ]
    },
    {
     "name": "stdin",
     "output_type": "stream",
     "text": [
      ">  how are you \n"
     ]
    },
    {
     "name": "stdout",
     "output_type": "stream",
     "text": [
      "Bot: fine i m fine .\n"
     ]
    },
    {
     "name": "stdin",
     "output_type": "stream",
     "text": [
      ">  do you have a name?\n"
     ]
    },
    {
     "name": "stdout",
     "output_type": "stream",
     "text": [
      "Bot: yes .\n"
     ]
    },
    {
     "name": "stdin",
     "output_type": "stream",
     "text": [
      ">  great, what is your name?\n"
     ]
    },
    {
     "name": "stdout",
     "output_type": "stream",
     "text": [
      "Bot: my name is robin camelot .\n"
     ]
    },
    {
     "name": "stdin",
     "output_type": "stream",
     "text": [
      ">  nice to meet you robin\n"
     ]
    },
    {
     "name": "stdout",
     "output_type": "stream",
     "text": [
      "Bot: the hell i am .\n"
     ]
    },
    {
     "name": "stdin",
     "output_type": "stream",
     "text": [
      ">  spicy\n"
     ]
    },
    {
     "name": "stdout",
     "output_type": "stream",
     "text": [
      "Error: Encountered unknown word.\n"
     ]
    },
    {
     "name": "stdin",
     "output_type": "stream",
     "text": [
      ">  q\n"
     ]
    }
   ],
   "source": [
    "evaluateInput(encoder, decoder, searcher, voc)"
   ]
  }
 ],
 "metadata": {
  "kernelspec": {
   "display_name": "tensorflow-environment",
   "language": "python",
   "name": "tensorflow-environment"
  },
  "language_info": {
   "codemirror_mode": {
    "name": "ipython",
    "version": 3
   },
   "file_extension": ".py",
   "mimetype": "text/x-python",
   "name": "python",
   "nbconvert_exporter": "python",
   "pygments_lexer": "ipython3",
   "version": "3.9.20"
  }
 },
 "nbformat": 4,
 "nbformat_minor": 5
}
