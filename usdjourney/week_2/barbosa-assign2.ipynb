{
 "cells": [
  {
   "cell_type": "markdown",
   "id": "041fa5ee-f22d-458b-b4a2-d82f24432e19",
   "metadata": {},
   "source": [
    "# Loading the Dataset into Pandas Dataframe"
   ]
  },
  {
   "cell_type": "code",
   "execution_count": 1,
   "id": "13cc0ba4-4905-4acf-b76d-f31b20dee30d",
   "metadata": {
    "scrolled": true
   },
   "outputs": [
    {
     "name": "stdout",
     "output_type": "stream",
     "text": [
      "                                                text  target\n",
      "0  \\n\\nI am sure some bashers of Pens fans are pr...      10\n",
      "1  My brother is in the market for a high-perform...       3\n",
      "2  \\n\\n\\n\\n\\tFinally you said what you dream abou...      17\n",
      "3  \\nThink!\\n\\nIt's the SCSI card doing the DMA t...       3\n",
      "4  1)    I have an old Jasmine drive which I cann...       4\n"
     ]
    }
   ],
   "source": [
    "import pandas as pd\n",
    "from sklearn.datasets import fetch_20newsgroups\n",
    "\n",
    "# load dataset\n",
    "newsgroups_data = fetch_20newsgroups(subset='all', remove=('headers', 'footers', 'quotes'))\n",
    "df = pd.DataFrame({'text': newsgroups_data.data, 'target': newsgroups_data.target})\n",
    "\n",
    "# display the first 5 rows\n",
    "print(df.head())\n"
   ]
  },
  {
   "cell_type": "markdown",
   "id": "d00bad84-b9f9-4f72-89f7-69c14024f443",
   "metadata": {},
   "source": [
    "The dataset contains newsgroup documents categorized into 20 different topics, and is loaded into a DataFrame."
   ]
  },
  {
   "cell_type": "markdown",
   "id": "6ce23f5a-1dab-469a-8ab5-77e3e7cd5930",
   "metadata": {},
   "source": [
    "# Preprocessing the Text Data"
   ]
  },
  {
   "cell_type": "markdown",
   "id": "5bb55835-62bc-4709-a690-21a05f8118c0",
   "metadata": {},
   "source": [
    "Next step cleans the text data by removing stopwords, punctuation, and non-alphabetical characters, and converting to lowercase. nltk for stopwords and re for regular expressions is also used to clean the text."
   ]
  },
  {
   "cell_type": "code",
   "execution_count": 2,
   "id": "9b24bf5d-8907-4193-9573-da1230dfdf16",
   "metadata": {
    "scrolled": true
   },
   "outputs": [
    {
     "name": "stderr",
     "output_type": "stream",
     "text": [
      "[nltk_data] Downloading package stopwords to\n",
      "[nltk_data]     /Users/bandito/nltk_data...\n",
      "[nltk_data]   Package stopwords is already up-to-date!\n"
     ]
    },
    {
     "name": "stdout",
     "output_type": "stream",
     "text": [
      "0    sure bashers pens fans pretty confused lack ki...\n",
      "1    brother market highperformance video card supp...\n",
      "2    finally said dream mediterranean new area grea...\n",
      "3    think scsi card dma transfers disks scsi card ...\n",
      "4    1 old jasmine drive cannot use new system unde...\n",
      "Name: cleaned_text, dtype: object\n"
     ]
    }
   ],
   "source": [
    "import numpy as np\n",
    "import re\n",
    "import string\n",
    "import nltk\n",
    "from nltk.corpus import stopwords\n",
    "\n",
    "nltk.download('stopwords')\n",
    "stop_words = set(stopwords.words('english'))\n",
    "\n",
    "def preprocess_text(text):\n",
    "    # to_lowercase\n",
    "    text = text.lower()\n",
    "    \n",
    "    # remove punct and non-alphanum chars\n",
    "    text = re.sub(f'[{string.punctuation}]', '', text)\n",
    "    \n",
    "    # remove stop words\n",
    "    text = ' '.join([word for word in text.split() if word not in stop_words])\n",
    "    \n",
    "    return text\n",
    "\n",
    "# preprocessing to the dataset\n",
    "df['cleaned_text'] = df['text'].apply(preprocess_text)\n",
    "\n",
    "# display clean text\n",
    "print(df['cleaned_text'].head())\n"
   ]
  },
  {
   "cell_type": "markdown",
   "id": "b0ad3f13-e751-484b-bcdc-6806a192d296",
   "metadata": {},
   "source": [
    "- nltk to download and apply stopwords.\n",
    "- preprocess_text function converts characters to lowercase, removes punctuation, and excludes stopwords.[1](#1)\n",
    "- Store the cleaned text in a new column called cleaned_text."
   ]
  },
  {
   "cell_type": "markdown",
   "id": "203b4293-9576-42b1-9e9b-fcb6534b475b",
   "metadata": {},
   "source": [
    "# Splitting the Data into Training and Testing Sets"
   ]
  },
  {
   "cell_type": "markdown",
   "id": "2bc937cf-dd7b-4467-a152-f824039077f5",
   "metadata": {},
   "source": [
    "Next, the data is split into training and testnig sets to evaluate performance later in the process, using of train_test_split from sklearn."
   ]
  },
  {
   "cell_type": "code",
   "execution_count": 3,
   "id": "b4a0301a-b20f-49d3-badd-266a859069d5",
   "metadata": {},
   "outputs": [],
   "source": [
    "from sklearn.model_selection import train_test_split\n",
    "\n",
    "# split the data\n",
    "X_train, X_test, y_train, y_test = train_test_split(df['cleaned_text'], df['target'], test_size=0.2, random_state=42)\n"
   ]
  },
  {
   "cell_type": "markdown",
   "id": "49928c71-73a4-40dd-8f69-d9eb2fb46b06",
   "metadata": {},
   "source": [
    "- Data was split so that 80% will be used for training and 20% for testing.\n",
    "- The train_test_split function shuffles the data and randomizes distribution of samples between training and testing sets.\n",
    "- random_state=42 is used to aid with reproducing by others."
   ]
  },
  {
   "cell_type": "markdown",
   "id": "40c1e977-96f7-4180-ac3a-2d56e6d6ed6b",
   "metadata": {},
   "source": [
    "# Using Pre-Trained Word Embedding"
   ]
  },
  {
   "cell_type": "markdown",
   "id": "dd20253b-400d-4e28-b40e-7c10fdb71a3e",
   "metadata": {},
   "source": [
    "Train Word2Vec embeddings using the cleaned text data."
   ]
  },
  {
   "cell_type": "code",
   "execution_count": 4,
   "id": "2073cb51-1444-476f-b864-58f412a9113e",
   "metadata": {},
   "outputs": [],
   "source": [
    "from gensim.models import Word2Vec\n",
    "\n",
    "# tokenize text\n",
    "X_train_tokens = [text.split() for text in X_train]\n",
    "\n",
    "# train Word2Vec model\n",
    "word2vec_model = Word2Vec(sentences=X_train_tokens, vector_size=100, window=5, min_count=5, workers=4)\n",
    "word2vec_model.train(X_train_tokens, total_examples=len(X_train_tokens), epochs=10)\n",
    "\n",
    "# get the embeddings\n",
    "def get_average_word2vec(text, model, embedding_dim=100):\n",
    "    words = text.split()\n",
    "    word_vectors = [model.wv[word] for word in words if word in model.wv]\n",
    "    if len(word_vectors) == 0:\n",
    "        return np.zeros(embedding_dim)\n",
    "    return np.mean(word_vectors, axis=0)\n",
    "\n",
    "X_train_embeddings = np.array([get_average_word2vec(text, word2vec_model) for text in X_train])\n",
    "X_test_embeddings = np.array([get_average_word2vec(text, word2vec_model) for text in X_test])\n"
   ]
  },
  {
   "cell_type": "markdown",
   "id": "17d9862e-3b60-4b91-8f39-6a5ec61a1c7e",
   "metadata": {},
   "source": [
    "- Each document is tokenized by splitting it into words. Word2Vec requires tokenized text as input.\n",
    "\n",
    "- The Word2Vec model is trained on the tokenized training data. \"gensim\" gives the ability to specify the size of the word vectors (vector_size=100), the context window (window=5), and the minimum word count. min_count=5 means that words appearing less than 5 times are to be disregarded. \n",
    "\n",
    "- Once the model is trained, numerical representation is done by averaging word vectors for all words. If no words in a document are in the model's vocabulary then a zero is used."
   ]
  },
  {
   "cell_type": "markdown",
   "id": "12c11422-38b8-4f90-a9be-ad5ed8d17f4d",
   "metadata": {},
   "source": [
    "# Building and Training a Classification Model"
   ]
  },
  {
   "cell_type": "markdown",
   "id": "92ff8642-e7b9-499f-9f01-49cd655f8928",
   "metadata": {},
   "source": [
    "Logistic Regression will classify the newsgroups."
   ]
  },
  {
   "cell_type": "code",
   "execution_count": 5,
   "id": "53bd3799-6fe6-4b82-bffe-4c65f1f0320f",
   "metadata": {
    "scrolled": true
   },
   "outputs": [
    {
     "data": {
      "text/html": [
       "<style>#sk-container-id-1 {\n",
       "  /* Definition of color scheme common for light and dark mode */\n",
       "  --sklearn-color-text: black;\n",
       "  --sklearn-color-line: gray;\n",
       "  /* Definition of color scheme for unfitted estimators */\n",
       "  --sklearn-color-unfitted-level-0: #fff5e6;\n",
       "  --sklearn-color-unfitted-level-1: #f6e4d2;\n",
       "  --sklearn-color-unfitted-level-2: #ffe0b3;\n",
       "  --sklearn-color-unfitted-level-3: chocolate;\n",
       "  /* Definition of color scheme for fitted estimators */\n",
       "  --sklearn-color-fitted-level-0: #f0f8ff;\n",
       "  --sklearn-color-fitted-level-1: #d4ebff;\n",
       "  --sklearn-color-fitted-level-2: #b3dbfd;\n",
       "  --sklearn-color-fitted-level-3: cornflowerblue;\n",
       "\n",
       "  /* Specific color for light theme */\n",
       "  --sklearn-color-text-on-default-background: var(--sg-text-color, var(--theme-code-foreground, var(--jp-content-font-color1, black)));\n",
       "  --sklearn-color-background: var(--sg-background-color, var(--theme-background, var(--jp-layout-color0, white)));\n",
       "  --sklearn-color-border-box: var(--sg-text-color, var(--theme-code-foreground, var(--jp-content-font-color1, black)));\n",
       "  --sklearn-color-icon: #696969;\n",
       "\n",
       "  @media (prefers-color-scheme: dark) {\n",
       "    /* Redefinition of color scheme for dark theme */\n",
       "    --sklearn-color-text-on-default-background: var(--sg-text-color, var(--theme-code-foreground, var(--jp-content-font-color1, white)));\n",
       "    --sklearn-color-background: var(--sg-background-color, var(--theme-background, var(--jp-layout-color0, #111)));\n",
       "    --sklearn-color-border-box: var(--sg-text-color, var(--theme-code-foreground, var(--jp-content-font-color1, white)));\n",
       "    --sklearn-color-icon: #878787;\n",
       "  }\n",
       "}\n",
       "\n",
       "#sk-container-id-1 {\n",
       "  color: var(--sklearn-color-text);\n",
       "}\n",
       "\n",
       "#sk-container-id-1 pre {\n",
       "  padding: 0;\n",
       "}\n",
       "\n",
       "#sk-container-id-1 input.sk-hidden--visually {\n",
       "  border: 0;\n",
       "  clip: rect(1px 1px 1px 1px);\n",
       "  clip: rect(1px, 1px, 1px, 1px);\n",
       "  height: 1px;\n",
       "  margin: -1px;\n",
       "  overflow: hidden;\n",
       "  padding: 0;\n",
       "  position: absolute;\n",
       "  width: 1px;\n",
       "}\n",
       "\n",
       "#sk-container-id-1 div.sk-dashed-wrapped {\n",
       "  border: 1px dashed var(--sklearn-color-line);\n",
       "  margin: 0 0.4em 0.5em 0.4em;\n",
       "  box-sizing: border-box;\n",
       "  padding-bottom: 0.4em;\n",
       "  background-color: var(--sklearn-color-background);\n",
       "}\n",
       "\n",
       "#sk-container-id-1 div.sk-container {\n",
       "  /* jupyter's `normalize.less` sets `[hidden] { display: none; }`\n",
       "     but bootstrap.min.css set `[hidden] { display: none !important; }`\n",
       "     so we also need the `!important` here to be able to override the\n",
       "     default hidden behavior on the sphinx rendered scikit-learn.org.\n",
       "     See: https://github.com/scikit-learn/scikit-learn/issues/21755 */\n",
       "  display: inline-block !important;\n",
       "  position: relative;\n",
       "}\n",
       "\n",
       "#sk-container-id-1 div.sk-text-repr-fallback {\n",
       "  display: none;\n",
       "}\n",
       "\n",
       "div.sk-parallel-item,\n",
       "div.sk-serial,\n",
       "div.sk-item {\n",
       "  /* draw centered vertical line to link estimators */\n",
       "  background-image: linear-gradient(var(--sklearn-color-text-on-default-background), var(--sklearn-color-text-on-default-background));\n",
       "  background-size: 2px 100%;\n",
       "  background-repeat: no-repeat;\n",
       "  background-position: center center;\n",
       "}\n",
       "\n",
       "/* Parallel-specific style estimator block */\n",
       "\n",
       "#sk-container-id-1 div.sk-parallel-item::after {\n",
       "  content: \"\";\n",
       "  width: 100%;\n",
       "  border-bottom: 2px solid var(--sklearn-color-text-on-default-background);\n",
       "  flex-grow: 1;\n",
       "}\n",
       "\n",
       "#sk-container-id-1 div.sk-parallel {\n",
       "  display: flex;\n",
       "  align-items: stretch;\n",
       "  justify-content: center;\n",
       "  background-color: var(--sklearn-color-background);\n",
       "  position: relative;\n",
       "}\n",
       "\n",
       "#sk-container-id-1 div.sk-parallel-item {\n",
       "  display: flex;\n",
       "  flex-direction: column;\n",
       "}\n",
       "\n",
       "#sk-container-id-1 div.sk-parallel-item:first-child::after {\n",
       "  align-self: flex-end;\n",
       "  width: 50%;\n",
       "}\n",
       "\n",
       "#sk-container-id-1 div.sk-parallel-item:last-child::after {\n",
       "  align-self: flex-start;\n",
       "  width: 50%;\n",
       "}\n",
       "\n",
       "#sk-container-id-1 div.sk-parallel-item:only-child::after {\n",
       "  width: 0;\n",
       "}\n",
       "\n",
       "/* Serial-specific style estimator block */\n",
       "\n",
       "#sk-container-id-1 div.sk-serial {\n",
       "  display: flex;\n",
       "  flex-direction: column;\n",
       "  align-items: center;\n",
       "  background-color: var(--sklearn-color-background);\n",
       "  padding-right: 1em;\n",
       "  padding-left: 1em;\n",
       "}\n",
       "\n",
       "\n",
       "/* Toggleable style: style used for estimator/Pipeline/ColumnTransformer box that is\n",
       "clickable and can be expanded/collapsed.\n",
       "- Pipeline and ColumnTransformer use this feature and define the default style\n",
       "- Estimators will overwrite some part of the style using the `sk-estimator` class\n",
       "*/\n",
       "\n",
       "/* Pipeline and ColumnTransformer style (default) */\n",
       "\n",
       "#sk-container-id-1 div.sk-toggleable {\n",
       "  /* Default theme specific background. It is overwritten whether we have a\n",
       "  specific estimator or a Pipeline/ColumnTransformer */\n",
       "  background-color: var(--sklearn-color-background);\n",
       "}\n",
       "\n",
       "/* Toggleable label */\n",
       "#sk-container-id-1 label.sk-toggleable__label {\n",
       "  cursor: pointer;\n",
       "  display: block;\n",
       "  width: 100%;\n",
       "  margin-bottom: 0;\n",
       "  padding: 0.5em;\n",
       "  box-sizing: border-box;\n",
       "  text-align: center;\n",
       "}\n",
       "\n",
       "#sk-container-id-1 label.sk-toggleable__label-arrow:before {\n",
       "  /* Arrow on the left of the label */\n",
       "  content: \"▸\";\n",
       "  float: left;\n",
       "  margin-right: 0.25em;\n",
       "  color: var(--sklearn-color-icon);\n",
       "}\n",
       "\n",
       "#sk-container-id-1 label.sk-toggleable__label-arrow:hover:before {\n",
       "  color: var(--sklearn-color-text);\n",
       "}\n",
       "\n",
       "/* Toggleable content - dropdown */\n",
       "\n",
       "#sk-container-id-1 div.sk-toggleable__content {\n",
       "  max-height: 0;\n",
       "  max-width: 0;\n",
       "  overflow: hidden;\n",
       "  text-align: left;\n",
       "  /* unfitted */\n",
       "  background-color: var(--sklearn-color-unfitted-level-0);\n",
       "}\n",
       "\n",
       "#sk-container-id-1 div.sk-toggleable__content.fitted {\n",
       "  /* fitted */\n",
       "  background-color: var(--sklearn-color-fitted-level-0);\n",
       "}\n",
       "\n",
       "#sk-container-id-1 div.sk-toggleable__content pre {\n",
       "  margin: 0.2em;\n",
       "  border-radius: 0.25em;\n",
       "  color: var(--sklearn-color-text);\n",
       "  /* unfitted */\n",
       "  background-color: var(--sklearn-color-unfitted-level-0);\n",
       "}\n",
       "\n",
       "#sk-container-id-1 div.sk-toggleable__content.fitted pre {\n",
       "  /* unfitted */\n",
       "  background-color: var(--sklearn-color-fitted-level-0);\n",
       "}\n",
       "\n",
       "#sk-container-id-1 input.sk-toggleable__control:checked~div.sk-toggleable__content {\n",
       "  /* Expand drop-down */\n",
       "  max-height: 200px;\n",
       "  max-width: 100%;\n",
       "  overflow: auto;\n",
       "}\n",
       "\n",
       "#sk-container-id-1 input.sk-toggleable__control:checked~label.sk-toggleable__label-arrow:before {\n",
       "  content: \"▾\";\n",
       "}\n",
       "\n",
       "/* Pipeline/ColumnTransformer-specific style */\n",
       "\n",
       "#sk-container-id-1 div.sk-label input.sk-toggleable__control:checked~label.sk-toggleable__label {\n",
       "  color: var(--sklearn-color-text);\n",
       "  background-color: var(--sklearn-color-unfitted-level-2);\n",
       "}\n",
       "\n",
       "#sk-container-id-1 div.sk-label.fitted input.sk-toggleable__control:checked~label.sk-toggleable__label {\n",
       "  background-color: var(--sklearn-color-fitted-level-2);\n",
       "}\n",
       "\n",
       "/* Estimator-specific style */\n",
       "\n",
       "/* Colorize estimator box */\n",
       "#sk-container-id-1 div.sk-estimator input.sk-toggleable__control:checked~label.sk-toggleable__label {\n",
       "  /* unfitted */\n",
       "  background-color: var(--sklearn-color-unfitted-level-2);\n",
       "}\n",
       "\n",
       "#sk-container-id-1 div.sk-estimator.fitted input.sk-toggleable__control:checked~label.sk-toggleable__label {\n",
       "  /* fitted */\n",
       "  background-color: var(--sklearn-color-fitted-level-2);\n",
       "}\n",
       "\n",
       "#sk-container-id-1 div.sk-label label.sk-toggleable__label,\n",
       "#sk-container-id-1 div.sk-label label {\n",
       "  /* The background is the default theme color */\n",
       "  color: var(--sklearn-color-text-on-default-background);\n",
       "}\n",
       "\n",
       "/* On hover, darken the color of the background */\n",
       "#sk-container-id-1 div.sk-label:hover label.sk-toggleable__label {\n",
       "  color: var(--sklearn-color-text);\n",
       "  background-color: var(--sklearn-color-unfitted-level-2);\n",
       "}\n",
       "\n",
       "/* Label box, darken color on hover, fitted */\n",
       "#sk-container-id-1 div.sk-label.fitted:hover label.sk-toggleable__label.fitted {\n",
       "  color: var(--sklearn-color-text);\n",
       "  background-color: var(--sklearn-color-fitted-level-2);\n",
       "}\n",
       "\n",
       "/* Estimator label */\n",
       "\n",
       "#sk-container-id-1 div.sk-label label {\n",
       "  font-family: monospace;\n",
       "  font-weight: bold;\n",
       "  display: inline-block;\n",
       "  line-height: 1.2em;\n",
       "}\n",
       "\n",
       "#sk-container-id-1 div.sk-label-container {\n",
       "  text-align: center;\n",
       "}\n",
       "\n",
       "/* Estimator-specific */\n",
       "#sk-container-id-1 div.sk-estimator {\n",
       "  font-family: monospace;\n",
       "  border: 1px dotted var(--sklearn-color-border-box);\n",
       "  border-radius: 0.25em;\n",
       "  box-sizing: border-box;\n",
       "  margin-bottom: 0.5em;\n",
       "  /* unfitted */\n",
       "  background-color: var(--sklearn-color-unfitted-level-0);\n",
       "}\n",
       "\n",
       "#sk-container-id-1 div.sk-estimator.fitted {\n",
       "  /* fitted */\n",
       "  background-color: var(--sklearn-color-fitted-level-0);\n",
       "}\n",
       "\n",
       "/* on hover */\n",
       "#sk-container-id-1 div.sk-estimator:hover {\n",
       "  /* unfitted */\n",
       "  background-color: var(--sklearn-color-unfitted-level-2);\n",
       "}\n",
       "\n",
       "#sk-container-id-1 div.sk-estimator.fitted:hover {\n",
       "  /* fitted */\n",
       "  background-color: var(--sklearn-color-fitted-level-2);\n",
       "}\n",
       "\n",
       "/* Specification for estimator info (e.g. \"i\" and \"?\") */\n",
       "\n",
       "/* Common style for \"i\" and \"?\" */\n",
       "\n",
       ".sk-estimator-doc-link,\n",
       "a:link.sk-estimator-doc-link,\n",
       "a:visited.sk-estimator-doc-link {\n",
       "  float: right;\n",
       "  font-size: smaller;\n",
       "  line-height: 1em;\n",
       "  font-family: monospace;\n",
       "  background-color: var(--sklearn-color-background);\n",
       "  border-radius: 1em;\n",
       "  height: 1em;\n",
       "  width: 1em;\n",
       "  text-decoration: none !important;\n",
       "  margin-left: 1ex;\n",
       "  /* unfitted */\n",
       "  border: var(--sklearn-color-unfitted-level-1) 1pt solid;\n",
       "  color: var(--sklearn-color-unfitted-level-1);\n",
       "}\n",
       "\n",
       ".sk-estimator-doc-link.fitted,\n",
       "a:link.sk-estimator-doc-link.fitted,\n",
       "a:visited.sk-estimator-doc-link.fitted {\n",
       "  /* fitted */\n",
       "  border: var(--sklearn-color-fitted-level-1) 1pt solid;\n",
       "  color: var(--sklearn-color-fitted-level-1);\n",
       "}\n",
       "\n",
       "/* On hover */\n",
       "div.sk-estimator:hover .sk-estimator-doc-link:hover,\n",
       ".sk-estimator-doc-link:hover,\n",
       "div.sk-label-container:hover .sk-estimator-doc-link:hover,\n",
       ".sk-estimator-doc-link:hover {\n",
       "  /* unfitted */\n",
       "  background-color: var(--sklearn-color-unfitted-level-3);\n",
       "  color: var(--sklearn-color-background);\n",
       "  text-decoration: none;\n",
       "}\n",
       "\n",
       "div.sk-estimator.fitted:hover .sk-estimator-doc-link.fitted:hover,\n",
       ".sk-estimator-doc-link.fitted:hover,\n",
       "div.sk-label-container:hover .sk-estimator-doc-link.fitted:hover,\n",
       ".sk-estimator-doc-link.fitted:hover {\n",
       "  /* fitted */\n",
       "  background-color: var(--sklearn-color-fitted-level-3);\n",
       "  color: var(--sklearn-color-background);\n",
       "  text-decoration: none;\n",
       "}\n",
       "\n",
       "/* Span, style for the box shown on hovering the info icon */\n",
       ".sk-estimator-doc-link span {\n",
       "  display: none;\n",
       "  z-index: 9999;\n",
       "  position: relative;\n",
       "  font-weight: normal;\n",
       "  right: .2ex;\n",
       "  padding: .5ex;\n",
       "  margin: .5ex;\n",
       "  width: min-content;\n",
       "  min-width: 20ex;\n",
       "  max-width: 50ex;\n",
       "  color: var(--sklearn-color-text);\n",
       "  box-shadow: 2pt 2pt 4pt #999;\n",
       "  /* unfitted */\n",
       "  background: var(--sklearn-color-unfitted-level-0);\n",
       "  border: .5pt solid var(--sklearn-color-unfitted-level-3);\n",
       "}\n",
       "\n",
       ".sk-estimator-doc-link.fitted span {\n",
       "  /* fitted */\n",
       "  background: var(--sklearn-color-fitted-level-0);\n",
       "  border: var(--sklearn-color-fitted-level-3);\n",
       "}\n",
       "\n",
       ".sk-estimator-doc-link:hover span {\n",
       "  display: block;\n",
       "}\n",
       "\n",
       "/* \"?\"-specific style due to the `<a>` HTML tag */\n",
       "\n",
       "#sk-container-id-1 a.estimator_doc_link {\n",
       "  float: right;\n",
       "  font-size: 1rem;\n",
       "  line-height: 1em;\n",
       "  font-family: monospace;\n",
       "  background-color: var(--sklearn-color-background);\n",
       "  border-radius: 1rem;\n",
       "  height: 1rem;\n",
       "  width: 1rem;\n",
       "  text-decoration: none;\n",
       "  /* unfitted */\n",
       "  color: var(--sklearn-color-unfitted-level-1);\n",
       "  border: var(--sklearn-color-unfitted-level-1) 1pt solid;\n",
       "}\n",
       "\n",
       "#sk-container-id-1 a.estimator_doc_link.fitted {\n",
       "  /* fitted */\n",
       "  border: var(--sklearn-color-fitted-level-1) 1pt solid;\n",
       "  color: var(--sklearn-color-fitted-level-1);\n",
       "}\n",
       "\n",
       "/* On hover */\n",
       "#sk-container-id-1 a.estimator_doc_link:hover {\n",
       "  /* unfitted */\n",
       "  background-color: var(--sklearn-color-unfitted-level-3);\n",
       "  color: var(--sklearn-color-background);\n",
       "  text-decoration: none;\n",
       "}\n",
       "\n",
       "#sk-container-id-1 a.estimator_doc_link.fitted:hover {\n",
       "  /* fitted */\n",
       "  background-color: var(--sklearn-color-fitted-level-3);\n",
       "}\n",
       "</style><div id=\"sk-container-id-1\" class=\"sk-top-container\"><div class=\"sk-text-repr-fallback\"><pre>LogisticRegression(max_iter=1000)</pre><b>In a Jupyter environment, please rerun this cell to show the HTML representation or trust the notebook. <br />On GitHub, the HTML representation is unable to render, please try loading this page with nbviewer.org.</b></div><div class=\"sk-container\" hidden><div class=\"sk-item\"><div class=\"sk-estimator fitted sk-toggleable\"><input class=\"sk-toggleable__control sk-hidden--visually\" id=\"sk-estimator-id-1\" type=\"checkbox\" checked><label for=\"sk-estimator-id-1\" class=\"sk-toggleable__label fitted sk-toggleable__label-arrow fitted\">&nbsp;&nbsp;LogisticRegression<a class=\"sk-estimator-doc-link fitted\" rel=\"noreferrer\" target=\"_blank\" href=\"https://scikit-learn.org/1.5/modules/generated/sklearn.linear_model.LogisticRegression.html\">?<span>Documentation for LogisticRegression</span></a><span class=\"sk-estimator-doc-link fitted\">i<span>Fitted</span></span></label><div class=\"sk-toggleable__content fitted\"><pre>LogisticRegression(max_iter=1000)</pre></div> </div></div></div></div>"
      ],
      "text/plain": [
       "LogisticRegression(max_iter=1000)"
      ]
     },
     "execution_count": 5,
     "metadata": {},
     "output_type": "execute_result"
    }
   ],
   "source": [
    "from sklearn.linear_model import LogisticRegression\n",
    "\n",
    "# train a Logistic Regression model\n",
    "clf = LogisticRegression(max_iter=1000)\n",
    "clf.fit(X_train_embeddings, y_train)\n"
   ]
  },
  {
   "cell_type": "markdown",
   "id": "db23967b-75bb-4495-b8f1-e537cfa22e69",
   "metadata": {},
   "source": [
    "- Logistic Regression is used along with with a high max_iter to help with convergence.\n",
    "- The model is trained using word embeddings as features and newsgroup categories as labels."
   ]
  },
  {
   "cell_type": "markdown",
   "id": "4d74b024-b040-47a7-a782-df333d3a4638",
   "metadata": {},
   "source": [
    "# Making Predictions on the Test Set"
   ]
  },
  {
   "cell_type": "markdown",
   "id": "2bdc2b83-0e95-48e1-b30b-fd2dce3b3137",
   "metadata": {},
   "source": [
    "The trained model is used it to predict the newsgroup categories of test data."
   ]
  },
  {
   "cell_type": "code",
   "execution_count": 6,
   "id": "4ce5d9c0-e3fb-4601-8866-4eee4f9c73a1",
   "metadata": {
    "scrolled": true
   },
   "outputs": [
    {
     "name": "stdout",
     "output_type": "stream",
     "text": [
      "[ 9  2 14 18 14  8 18 19 14  7]\n"
     ]
    }
   ],
   "source": [
    "# predict test set categories\n",
    "y_pred = clf.predict(X_test_embeddings)\n",
    "\n",
    "# show first 10\n",
    "print(y_pred[:10])  # Show the first 10 predictions\n"
   ]
  },
  {
   "cell_type": "markdown",
   "id": "7d1cd41d-b1ca-492f-80e6-38eeb897b33a",
   "metadata": {},
   "source": [
    "- The first 10 predictions are printed out "
   ]
  },
  {
   "cell_type": "markdown",
   "id": "6b8ef962-2760-4885-8f1c-ff25bc6ade5b",
   "metadata": {},
   "source": [
    "# Model Performance Evaluation"
   ]
  },
  {
   "cell_type": "markdown",
   "id": "366885fe-f0d9-4bc3-a52d-ec4dff47813f",
   "metadata": {},
   "source": [
    "Evaluate the model's performance using several metrics: Accuracy, Precision, Recall, F1 Score, Confusion Matrix, and AUC-ROC."
   ]
  },
  {
   "cell_type": "code",
   "execution_count": 7,
   "id": "4dfa25d8-af36-4958-9ade-6b27d6fdff45",
   "metadata": {},
   "outputs": [
    {
     "name": "stdout",
     "output_type": "stream",
     "text": [
      "Accuracy: 0.5774535809018567\n",
      "Precision (weighted): 0.5762291411009131\n",
      "Recall (weighted): 0.5774535809018567\n",
      "F1 Score (weighted): 0.5736367501926576\n",
      "Confusion Matrix:\n",
      "[[ 64   2   1   0   0   1   0   6   5   2   1   2   1   3   4  24   5  12\n",
      "    9   9]\n",
      " [  0 101  17  10   3  21   2   8   1   3   0   5   9   4  15   0   1   0\n",
      "    1   1]\n",
      " [  2  23 105  20   4  15   4   8   2   0   1   1   7   1   1   0   0   1\n",
      "    0   0]\n",
      " [  0  12  16  90  34   4   8   2   0   1   1   0  10   3   0   2   0   0\n",
      "    0   0]\n",
      " [  1   8   8  40  97   3   6  17   3   0   0   3  12   2   3   0   0   1\n",
      "    0   1]\n",
      " [  0  20  21   2   0 157   0   2   1   2   0   0   3   1   3   0   0   0\n",
      "    3   0]\n",
      " [  0   1   1  18  13   2 118  10   4   3   1   3  13   0   4   0   2   0\n",
      "    0   0]\n",
      " [  1   1   1   0   1   1   5 120  32   0   0   1   8   5  10   0   8   1\n",
      "    1   0]\n",
      " [  1   1   0   1   1   1  10  30  92   6   2   1   7   2   0   0   6   2\n",
      "    4   1]\n",
      " [  8   1   0   0   1   0   0  15   2 136  34   1   0   2   3   2   1   3\n",
      "    1   1]\n",
      " [  5   0   0   2   0   0   4   7   3  34 136   1   0   0   2   1   2   0\n",
      "    1   0]\n",
      " [  3   7   1   0   1   1   2   1   1   3   0 129  13   3   5   1  11   6\n",
      "   11   2]\n",
      " [  1   6   6  10  10   2  13  15   8   2   1   5 102   7  12   0   0   1\n",
      "    1   0]\n",
      " [  5   4   1   0   1   0   2   3   9   3   1   1   3 150   7   1   0   1\n",
      "    1   1]\n",
      " [  2   5   1   0   1   2   2  14   1   1   3   3   7   4 133   1   2   3\n",
      "    4   0]\n",
      " [ 17   0   1   0   0   0   0   4   3   1   0   1   0   5   1 143   1   6\n",
      "    4  15]\n",
      " [  3   0   0   0   0   0   0   9  10   2   1   4   2   2   2   3 111   3\n",
      "   32   4]\n",
      " [  7   0   0   0   1   0   0   6   4   4   1   3   1   3   6   6   3 120\n",
      "   10   7]\n",
      " [ 12   1   0   0   0   0   1   8   3   0   4   2   2   4   6   4  35  11\n",
      "   62   4]\n",
      " [ 28   1   0   0   1   0   0   4   5   3   2   0   0  10   2  50  10   3\n",
      "    6  11]]\n",
      "AUC-ROC: 0.9364841618840192\n"
     ]
    }
   ],
   "source": [
    "from sklearn.metrics import accuracy_score, precision_score, recall_score, f1_score, confusion_matrix, roc_auc_score\n",
    "\n",
    "# accuracy\n",
    "accuracy = accuracy_score(y_test, y_pred)\n",
    "print(f'Accuracy: {accuracy}')\n",
    "\n",
    "# precision, recall, F1-Score\n",
    "precision = precision_score(y_test, y_pred, average='weighted')\n",
    "recall = recall_score(y_test, y_pred, average='weighted')\n",
    "f1 = f1_score(y_test, y_pred, average='weighted')\n",
    "\n",
    "print(f'Precision (weighted): {precision}')\n",
    "print(f'Recall (weighted): {recall}')\n",
    "print(f'F1 Score (weighted): {f1}')\n",
    "\n",
    "# confusion matrix\n",
    "conf_matrix = confusion_matrix(y_test, y_pred)\n",
    "print(f'Confusion Matrix:\\n{conf_matrix}')\n",
    "\n",
    "# AUC-ROC\n",
    "y_pred_prob = clf.predict_proba(X_test_embeddings)\n",
    "auc_roc = roc_auc_score(y_test, y_pred_prob, multi_class='ovr')\n",
    "print(f'AUC-ROC: {auc_roc}')\n"
   ]
  },
  {
   "cell_type": "markdown",
   "id": "0033d0c9-7699-4764-a691-1ea29228945f",
   "metadata": {},
   "source": [
    "- Metrics computed to evaluate the performance of the model.\n",
    "- The confusion matrix serves as visual to see how the model is performing.\n",
    "- We calculate the AUC-ROC score for multi-class classification."
   ]
  },
  {
   "cell_type": "markdown",
   "id": "9dcc7649-42f1-430c-b423-48ecb36b007d",
   "metadata": {},
   "source": [
    "# Insights and Future Development"
   ]
  },
  {
   "cell_type": "markdown",
   "id": "0c3a08b6-e7e1-4fdc-82e4-4516326182b2",
   "metadata": {},
   "source": [
    "Instead of relying on a train-test split, one might consider using a train-validation-test split, where validation set is used for model selection and hyperparameter tuning. Cross-validation can help the model generalize across different subsets of the data.\n",
    "\n",
    "If some stopwords (e.g., technical terms or common newsgroup jargon) are important for classification, one can create a custom stopword list that includes domain-specific stopwords. This allows for a more fine-tuned preprocess.\n",
    "\n",
    "In some cases, rare words might contain valuable information, especially in niche categories. Word2Vec's min_count=5 parameter filters out rare words, but one might experiment with lowering or increasing this threshold depending on the dataset.\n",
    "\n",
    "If one observes that some categories are underrepresented in the dataset, one can use techniques like SVM or logistic regression to give more importance to minority classes during training. This can help improve performance for underrepresented categories."
   ]
  },
  {
   "cell_type": "markdown",
   "id": "e3826cc2-5dcf-444a-b269-b75cd22627c0",
   "metadata": {},
   "source": [
    "## References"
   ]
  },
  {
   "cell_type": "markdown",
   "id": "7acc9e14-45b0-4a58-b4e0-ab735a1e1329",
   "metadata": {},
   "source": [
    "Bengfort, B., Bilbro, R., & Ojeda, T. (2018). *Applied Text Analysis with Python: Enabling Language-Aware Data Products with Machine Learning*. O'Reilly Media, Inc.  \n",
    "Link: [https://www.oreilly.com/library/view/applied-text-analysis/9781491963035/](https://www.oreilly.com/library/view/applied-text-analysis/9781491963035/)\n",
    "\n",
    "Jurafsky, D., & Martin, J. H. (2021). *Speech and Language Processing* (3rd ed.). Pearson.  \n",
    "Link: [https://web.stanford.edu/~jurafsky/slp3/](https://web.stanford.edu/~jurafsky/slp3/)\n",
    "\n",
    "Google Developers. (n.d.). ROC and AUC. *Machine Learning Crash Course*.  \n",
    "Link: [https://developers.google.com/machine-learning/crash-course/classification/roc-and-auc](https://developers.google.com/machine-learning/crash-course/classification/roc-and-auc)\n",
    "\n",
    "KDnuggets. (2022). Logistic Regression for Classification: Basics and Beyond.  \n",
    "Link: [https://www.kdnuggets.com/2022/04/logistic-regression-classification.html](https://www.kdnuggets.com/2022/04/logistic-regression-classification.html)\n",
    "\n",
    "Scikit-learn. (2023). *LogisticRegression*: Scikit-learn Documentation.  \n",
    "Link: [https://scikit-learn.org/1.5/modules/generated/sklearn.linear_model.LogisticRegression.html](https://www.scikit-learn.org/1.5/modules/generated/sklearn.linear_model.LogisticRegression.html)\n",
    "\n",
    "Rehurek, R. (2023). Word2Vec Tutorial. *Gensim Documentation*.  \n",
    "Link: [https://radimrehurek.com/gensim/auto_examples/tutorials/run_word2vec.html#sphx-glr-auto-examples-tutorials-run-word2vec-py](https://radimrehurek.com/gensim/auto_examples/tutorials/run_word2vec.html#sphx-glr-auto-examples-tutorials-run-word2vec-py)\n"
   ]
  }
 ],
 "metadata": {
  "authors": [
   {
    "name": "Ricardo Barbosa"
   }
  ],
  "date": "Semptember 16, 2024",
  "kernelspec": {
   "display_name": "Python 3 (ipykernel)",
   "language": "python",
   "name": "python3"
  },
  "language_info": {
   "codemirror_mode": {
    "name": "ipython",
    "version": 3
   },
   "file_extension": ".py",
   "mimetype": "text/x-python",
   "name": "python",
   "nbconvert_exporter": "python",
   "pygments_lexer": "ipython3",
   "version": "3.11.9"
  },
  "title": "AAI 520 - Assignment 2"
 },
 "nbformat": 4,
 "nbformat_minor": 5
}
