{
 "cells": [
  {
   "cell_type": "markdown",
   "id": "78747bf9-603f-40e9-9641-a9cc4830d5d1",
   "metadata": {},
   "source": [
    "# Understanding the Dataset"
   ]
  },
  {
   "cell_type": "code",
   "execution_count": 2,
   "id": "1be64335-0b67-48bf-86cc-adda7b5ffa1c",
   "metadata": {},
   "outputs": [
    {
     "data": {
      "text/html": [
       "<div>\n",
       "<style scoped>\n",
       "    .dataframe tbody tr th:only-of-type {\n",
       "        vertical-align: middle;\n",
       "    }\n",
       "\n",
       "    .dataframe tbody tr th {\n",
       "        vertical-align: top;\n",
       "    }\n",
       "\n",
       "    .dataframe thead th {\n",
       "        text-align: right;\n",
       "    }\n",
       "</style>\n",
       "<table border=\"1\" class=\"dataframe\">\n",
       "  <thead>\n",
       "    <tr style=\"text-align: right;\">\n",
       "      <th></th>\n",
       "      <th>claim</th>\n",
       "      <th>evidences/0/evidence</th>\n",
       "    </tr>\n",
       "  </thead>\n",
       "  <tbody>\n",
       "    <tr>\n",
       "      <th>0</th>\n",
       "      <td>Global warming is driving polar bears toward e...</td>\n",
       "      <td>\"Recent Research Shows Human Activity Driving ...</td>\n",
       "    </tr>\n",
       "    <tr>\n",
       "      <th>1</th>\n",
       "      <td>The sun has gone into ‘lockdown’ which could c...</td>\n",
       "      <td>The current consensus of the scientific commun...</td>\n",
       "    </tr>\n",
       "    <tr>\n",
       "      <th>2</th>\n",
       "      <td>The polar bear population has been growing.</td>\n",
       "      <td>\"Ask the experts: Are polar bear populations i...</td>\n",
       "    </tr>\n",
       "    <tr>\n",
       "      <th>3</th>\n",
       "      <td>Ironic' study finds more CO2 has slightly cool...</td>\n",
       "      <td>CO2 in the mesosphere acts as a cooling agent ...</td>\n",
       "    </tr>\n",
       "    <tr>\n",
       "      <th>4</th>\n",
       "      <td>Human additions of CO2 are in the margin of er...</td>\n",
       "      <td>While CO 2 absorption and release is always ha...</td>\n",
       "    </tr>\n",
       "  </tbody>\n",
       "</table>\n",
       "</div>"
      ],
      "text/plain": [
       "                                               claim  \\\n",
       "0  Global warming is driving polar bears toward e...   \n",
       "1  The sun has gone into ‘lockdown’ which could c...   \n",
       "2        The polar bear population has been growing.   \n",
       "3  Ironic' study finds more CO2 has slightly cool...   \n",
       "4  Human additions of CO2 are in the margin of er...   \n",
       "\n",
       "                                evidences/0/evidence  \n",
       "0  \"Recent Research Shows Human Activity Driving ...  \n",
       "1  The current consensus of the scientific commun...  \n",
       "2  \"Ask the experts: Are polar bear populations i...  \n",
       "3  CO2 in the mesosphere acts as a cooling agent ...  \n",
       "4  While CO 2 absorption and release is always ha...  "
      ]
     },
     "execution_count": 2,
     "metadata": {},
     "output_type": "execute_result"
    }
   ],
   "source": [
    "import pandas as pd\n",
    "\n",
    "# load dataset\n",
    "file_path = '/Users/bandito2/Documents/FA24/usdjourney/archive/climate-fever.csv'\n",
    "data = pd.read_csv(file_path)\n",
    "\n",
    "# displays the first few rows of the dataset to understand structure\n",
    "data[['claim', 'evidences/0/evidence']].head()\n"
   ]
  },
  {
   "cell_type": "markdown",
   "id": "e32a329f-c9ae-40fe-a734-8368c2edd28e",
   "metadata": {},
   "source": [
    "The Climate Fever dataset contains claims and evidence texts on climate change, which will be analyzed using NER (Named Entity Recognition) and POS (Part of Speech) Tagging techniques. Each row in the dataset includes a 'claim', which represents a statement related to climate change, and 'evidence/0/evidence, which contains supporting or refuting evidence. The objective is to extract named entities - such as people, locations, and organizations - from these texts and assign grammatical roles (POS tags) to different words. \n",
    "\n",
    "By focusing on these columns, the aim will be to analyze how climate-related claims are framed and supported with evidence, identifying key entities and sentence structure in the text. This type of analysis will help understand the relationships betweeen different components in climate change discourse, such as identifying which organizations are mentioned in connection with climate policies. spaCy will serve as the primary vehicle for NLP to implement NER and POS tagging, as mentioned in the documentation on named entities (spaCy.io, n.d.)."
   ]
  },
  {
   "cell_type": "markdown",
   "id": "6667beca-1aa3-428c-813e-1ab1cee9c235",
   "metadata": {},
   "source": [
    "# Preprocessing the Text data"
   ]
  },
  {
   "cell_type": "code",
   "execution_count": 33,
   "id": "6841b80e-a003-44fd-afb1-a8f9d094d1b0",
   "metadata": {},
   "outputs": [
    {
     "data": {
      "text/html": [
       "<div>\n",
       "<style scoped>\n",
       "    .dataframe tbody tr th:only-of-type {\n",
       "        vertical-align: middle;\n",
       "    }\n",
       "\n",
       "    .dataframe tbody tr th {\n",
       "        vertical-align: top;\n",
       "    }\n",
       "\n",
       "    .dataframe thead th {\n",
       "        text-align: right;\n",
       "    }\n",
       "</style>\n",
       "<table border=\"1\" class=\"dataframe\">\n",
       "  <thead>\n",
       "    <tr style=\"text-align: right;\">\n",
       "      <th></th>\n",
       "      <th>claim</th>\n",
       "      <th>clean_claim</th>\n",
       "      <th>clean_evidence</th>\n",
       "    </tr>\n",
       "  </thead>\n",
       "  <tbody>\n",
       "    <tr>\n",
       "      <th>0</th>\n",
       "      <td>Global warming is driving polar bears toward e...</td>\n",
       "      <td>global warming drive polar bear extinction</td>\n",
       "      <td>recent research show human activity drive eart...</td>\n",
       "    </tr>\n",
       "    <tr>\n",
       "      <th>1</th>\n",
       "      <td>The sun has gone into ‘lockdown’ which could c...</td>\n",
       "      <td>sun go lockdown cause freezing weather earthqu...</td>\n",
       "      <td>current consensus scientific community aerosol...</td>\n",
       "    </tr>\n",
       "    <tr>\n",
       "      <th>2</th>\n",
       "      <td>The polar bear population has been growing.</td>\n",
       "      <td>polar bear population grow</td>\n",
       "      <td>ask expert polar bear population increase</td>\n",
       "    </tr>\n",
       "    <tr>\n",
       "      <th>3</th>\n",
       "      <td>Ironic' study finds more CO2 has slightly cool...</td>\n",
       "      <td>ironic study find slightly cool planet</td>\n",
       "      <td>mesosphere act cool agent efficiently radiate ...</td>\n",
       "    </tr>\n",
       "    <tr>\n",
       "      <th>4</th>\n",
       "      <td>Human additions of CO2 are in the margin of er...</td>\n",
       "      <td>human addition margin error current measuremen...</td>\n",
       "      <td>co absorption release happen result natural pr...</td>\n",
       "    </tr>\n",
       "  </tbody>\n",
       "</table>\n",
       "</div>"
      ],
      "text/plain": [
       "                                               claim  \\\n",
       "0  Global warming is driving polar bears toward e...   \n",
       "1  The sun has gone into ‘lockdown’ which could c...   \n",
       "2        The polar bear population has been growing.   \n",
       "3  Ironic' study finds more CO2 has slightly cool...   \n",
       "4  Human additions of CO2 are in the margin of er...   \n",
       "\n",
       "                                         clean_claim  \\\n",
       "0         global warming drive polar bear extinction   \n",
       "1  sun go lockdown cause freezing weather earthqu...   \n",
       "2                         polar bear population grow   \n",
       "3             ironic study find slightly cool planet   \n",
       "4  human addition margin error current measuremen...   \n",
       "\n",
       "                                      clean_evidence  \n",
       "0  recent research show human activity drive eart...  \n",
       "1  current consensus scientific community aerosol...  \n",
       "2          ask expert polar bear population increase  \n",
       "3  mesosphere act cool agent efficiently radiate ...  \n",
       "4  co absorption release happen result natural pr...  "
      ]
     },
     "execution_count": 33,
     "metadata": {},
     "output_type": "execute_result"
    }
   ],
   "source": [
    "import spacy\n",
    "\n",
    "# load spaCy's English language model\n",
    "nlp = spacy.load(\"en_core_web_lg\")\n",
    "\n",
    "# clean the text with preprocessing function\n",
    "def preprocess_text(text):\n",
    "    doc = nlp(text.lower())  # normalize with to_lowercase\n",
    "    tokens = [token.lemma_ for token in doc if token.is_alpha and not token.is_stop]  # lemmatize and remove stopwords\n",
    "    return \" \".join(tokens)\n",
    "\n",
    "# apply preprocessing to the claim and evidence columns\n",
    "data['clean_claim'] = data['claim'].apply(preprocess_text)\n",
    "data['clean_evidence'] = data['evidences/0/evidence'].apply(preprocess_text)\n",
    "\n",
    "# display preprocessed text\n",
    "data[['claim', 'clean_claim', 'clean_evidence']].head()\n"
   ]
  },
  {
   "cell_type": "markdown",
   "id": "a3175cc6-cdf2-4a84-8f8e-ba49ece2e785",
   "metadata": {},
   "source": [
    "Preprocessing text is necessary in Natural Language Processing (NLP) to make the data clean and suitable for further analysis. This involves removing punctuation, converting all text to lowercase, and eliminating stop words—common words that don't contribute much meaning, such as \"the,\" \"is,\" and \"and.\" Tokenization breaks the text into individual words (tokens), and lemmatization converts words into their base form (e.g., \"running\" to \"run\").\n",
    "\n",
    "For example, the sentence \"The polar bears are rapidly migrating\" would be preprocessed into \"polar bear rapid migrate,\" stripping out unnecessary words and standardizing the forms of key words. This ensures that the Named Entity Recognition (NER) and Part-of-Speech (POS) tagging models focus on the important words and patterns in the dataset, improving both the accuracy and relevance of the analysis.\n",
    "\n",
    "In this step, we will apply these techniques using spaCy, which is known for its efficient text preprocessing pipeline. This aligns with methods described in the Understanding Named Entity Recognition article, where similar preprocessing steps are applied before entity recognition."
   ]
  },
  {
   "cell_type": "markdown",
   "id": "7ad9992c-7569-423f-b786-82004db0407a",
   "metadata": {},
   "source": [
    "# Applying Named entity Recognition (NER)"
   ]
  },
  {
   "cell_type": "markdown",
   "id": "55b34436-3a1c-4335-a4ee-79310c31c155",
   "metadata": {},
   "source": [
    "Now that the text is preprocessed, Named Entity Recognition (NER) will be applied to extract specific entities such as people, organizations, locations, and more. NER identifies and classifies words or phrases in the text that represent these entities. For example, in a sentence like \"Global warming is affecting polar bears in the Arctic,\" NER would recognize \"polar bears\" as a person/animal entity and \"Arctic\" as a location.\n",
    "\n",
    "This step is necessary for analyzing text as it helps to structure unstructured text data by identifying key elements. Named Entity Recognition has applications in areas like information extraction, question answering, and summarization. In the context of the Climate Fever dataset, NER can help us determine which organizations or locations are being frequently mentioned in climate-related claims and evidence. This builds on the concepts described in the spaCy documentation on NER, which highlights how spaCy can recognize common entities using its pre-trained models (spaCy, n.d.)."
   ]
  },
  {
   "cell_type": "code",
   "execution_count": 44,
   "id": "16ef49ef-847b-4b4a-8875-fc0a523356c0",
   "metadata": {},
   "outputs": [
    {
     "data": {
      "text/html": [
       "<div>\n",
       "<style scoped>\n",
       "    .dataframe tbody tr th:only-of-type {\n",
       "        vertical-align: middle;\n",
       "    }\n",
       "\n",
       "    .dataframe tbody tr th {\n",
       "        vertical-align: top;\n",
       "    }\n",
       "\n",
       "    .dataframe thead th {\n",
       "        text-align: right;\n",
       "    }\n",
       "</style>\n",
       "<table border=\"1\" class=\"dataframe\">\n",
       "  <thead>\n",
       "    <tr style=\"text-align: right;\">\n",
       "      <th></th>\n",
       "      <th>claim</th>\n",
       "      <th>claim_entities</th>\n",
       "      <th>evidence_entities</th>\n",
       "    </tr>\n",
       "  </thead>\n",
       "  <tbody>\n",
       "    <tr>\n",
       "      <th>0</th>\n",
       "      <td>Global warming is driving polar bears toward e...</td>\n",
       "      <td>[]</td>\n",
       "      <td>[]</td>\n",
       "    </tr>\n",
       "    <tr>\n",
       "      <th>1</th>\n",
       "      <td>The sun has gone into ‘lockdown’ which could c...</td>\n",
       "      <td>[]</td>\n",
       "      <td>[]</td>\n",
       "    </tr>\n",
       "    <tr>\n",
       "      <th>2</th>\n",
       "      <td>The polar bear population has been growing.</td>\n",
       "      <td>[]</td>\n",
       "      <td>[]</td>\n",
       "    </tr>\n",
       "    <tr>\n",
       "      <th>3</th>\n",
       "      <td>Ironic' study finds more CO2 has slightly cool...</td>\n",
       "      <td>[]</td>\n",
       "      <td>[]</td>\n",
       "    </tr>\n",
       "    <tr>\n",
       "      <th>4</th>\n",
       "      <td>Human additions of CO2 are in the margin of er...</td>\n",
       "      <td>[]</td>\n",
       "      <td>[]</td>\n",
       "    </tr>\n",
       "    <tr>\n",
       "      <th>...</th>\n",
       "      <td>...</td>\n",
       "      <td>...</td>\n",
       "      <td>...</td>\n",
       "    </tr>\n",
       "    <tr>\n",
       "      <th>1520</th>\n",
       "      <td>Global warming theory holds that one of the fi...</td>\n",
       "      <td>[(James Taylor, PERSON)]</td>\n",
       "      <td>[]</td>\n",
       "    </tr>\n",
       "    <tr>\n",
       "      <th>1521</th>\n",
       "      <td>In those days you couldn’t have seen across th...</td>\n",
       "      <td>[(those days, DATE)]</td>\n",
       "      <td>[]</td>\n",
       "    </tr>\n",
       "    <tr>\n",
       "      <th>1522</th>\n",
       "      <td>Ljungqvist's millennial temperature reconstruc...</td>\n",
       "      <td>[(Ljungqvist, PERSON), (Moberg, PERSON)]</td>\n",
       "      <td>[(Ljungqvist, PERSON), (Northern Hemisphere, L...</td>\n",
       "    </tr>\n",
       "    <tr>\n",
       "      <th>1523</th>\n",
       "      <td>It also concludes that current northern hemisp...</td>\n",
       "      <td>[]</td>\n",
       "      <td>[(the Northern Hemisphere, LOC), (the Southern...</td>\n",
       "    </tr>\n",
       "    <tr>\n",
       "      <th>1524</th>\n",
       "      <td>'What I can comment on is this prediction by D...</td>\n",
       "      <td>[(Hansen The West Side Highway, PERSON), (the ...</td>\n",
       "      <td>[(UDC Water Edge Study, ORG), (the Hudson Rive...</td>\n",
       "    </tr>\n",
       "  </tbody>\n",
       "</table>\n",
       "<p>1525 rows × 3 columns</p>\n",
       "</div>"
      ],
      "text/plain": [
       "                                                  claim  \\\n",
       "0     Global warming is driving polar bears toward e...   \n",
       "1     The sun has gone into ‘lockdown’ which could c...   \n",
       "2           The polar bear population has been growing.   \n",
       "3     Ironic' study finds more CO2 has slightly cool...   \n",
       "4     Human additions of CO2 are in the margin of er...   \n",
       "...                                                 ...   \n",
       "1520  Global warming theory holds that one of the fi...   \n",
       "1521  In those days you couldn’t have seen across th...   \n",
       "1522  Ljungqvist's millennial temperature reconstruc...   \n",
       "1523  It also concludes that current northern hemisp...   \n",
       "1524  'What I can comment on is this prediction by D...   \n",
       "\n",
       "                                         claim_entities  \\\n",
       "0                                                    []   \n",
       "1                                                    []   \n",
       "2                                                    []   \n",
       "3                                                    []   \n",
       "4                                                    []   \n",
       "...                                                 ...   \n",
       "1520                           [(James Taylor, PERSON)]   \n",
       "1521                               [(those days, DATE)]   \n",
       "1522           [(Ljungqvist, PERSON), (Moberg, PERSON)]   \n",
       "1523                                                 []   \n",
       "1524  [(Hansen The West Side Highway, PERSON), (the ...   \n",
       "\n",
       "                                      evidence_entities  \n",
       "0                                                    []  \n",
       "1                                                    []  \n",
       "2                                                    []  \n",
       "3                                                    []  \n",
       "4                                                    []  \n",
       "...                                                 ...  \n",
       "1520                                                 []  \n",
       "1521                                                 []  \n",
       "1522  [(Ljungqvist, PERSON), (Northern Hemisphere, L...  \n",
       "1523  [(the Northern Hemisphere, LOC), (the Southern...  \n",
       "1524  [(UDC Water Edge Study, ORG), (the Hudson Rive...  \n",
       "\n",
       "[1525 rows x 3 columns]"
      ]
     },
     "execution_count": 44,
     "metadata": {},
     "output_type": "execute_result"
    }
   ],
   "source": [
    "# extract named entities from text\n",
    "def extract_entities(text):\n",
    "    doc = nlp(text)\n",
    "    return [(ent.text, ent.label_) for ent in doc.ents]\n",
    "\n",
    "# NER to the preprocessed claim and evidence columns\n",
    "data['claim_entities'] = data['clean_claim'].apply(extract_entities)\n",
    "data['evidence_entities'] = data['clean_evidence'].apply(extract_entities)\n",
    "\n",
    "# display first and last 10 of the extracted named entities\n",
    "data[['claim', 'claim_entities', 'evidence_entities']].head(-10)\n"
   ]
  },
  {
   "cell_type": "markdown",
   "id": "2fa6b676-6a3f-4a7d-bfc6-11eb17e38db8",
   "metadata": {},
   "source": [
    "spaCy’s pre-trained model was used to identify and extract entities from both the claim and evidence text. For each sentence, the function extract_entities goes through the text, identifies named entities (such as people, locations, and organizations), and then returns them along with their label(s).\n",
    "\n",
    "The empty brackets in the output indicate that the Named Entity Recognition (NER) process did not identify all named entities in the claims or evidence. This could be due to lack of recognizable entities, specialized vocabulary, or text preprocessing.\n",
    "\n",
    "We can identify important entities that are repeatedly mentioned in discussions on climate change. This is useful for extracting key players, such as environmental organizations, governments, or locations affected by climate change."
   ]
  },
  {
   "cell_type": "markdown",
   "id": "fa25365f-326b-467e-8b26-25e26d597984",
   "metadata": {},
   "source": [
    "# Applying Part of Speech (POS) Tagging"
   ]
  },
  {
   "cell_type": "markdown",
   "id": "94302dc2-9abb-4be8-a7e1-941aa72056fe",
   "metadata": {},
   "source": [
    "Now that named entitites have been identified, Part-of-Speech (POS) tagging can be performed. POS tagging assigns grammatical labels to each word in a sentence, such as noun, verb, adjective, etc. Understanding the roles words play in a sentence helps us interpret the structure and meaning of the text. For example, in the sentence \"The polar bears are migrating,\" POS tagging identifies \"polar\" as an adjective and \"bears\" as a noun.\n",
    "\n",
    "In the Climate Fever dataset, POS tagging can reveal how claims are constructed and what parts of speech (such as verbs or adjectives) are frequently used. This is helps to analyze sentence structure in scientific claims and understand the tone or focus of the evidence. By tagging each word, we get insights into the overall composition of the text, aiding in deeper linguistic analysis (Pykes 2020). "
   ]
  },
  {
   "cell_type": "code",
   "execution_count": 13,
   "id": "eb440c83-734c-497d-a3e5-948c08d4c7e4",
   "metadata": {},
   "outputs": [
    {
     "data": {
      "text/html": [
       "<div>\n",
       "<style scoped>\n",
       "    .dataframe tbody tr th:only-of-type {\n",
       "        vertical-align: middle;\n",
       "    }\n",
       "\n",
       "    .dataframe tbody tr th {\n",
       "        vertical-align: top;\n",
       "    }\n",
       "\n",
       "    .dataframe thead th {\n",
       "        text-align: right;\n",
       "    }\n",
       "</style>\n",
       "<table border=\"1\" class=\"dataframe\">\n",
       "  <thead>\n",
       "    <tr style=\"text-align: right;\">\n",
       "      <th></th>\n",
       "      <th>claim</th>\n",
       "      <th>claim_pos_tags</th>\n",
       "      <th>evidence_pos_tags</th>\n",
       "    </tr>\n",
       "  </thead>\n",
       "  <tbody>\n",
       "    <tr>\n",
       "      <th>0</th>\n",
       "      <td>Global warming is driving polar bears toward e...</td>\n",
       "      <td>[(Global, ADJ), (warming, NOUN), (is, AUX), (d...</td>\n",
       "      <td>[(Recent, ADJ), (Research, NOUN), (Shows, VERB...</td>\n",
       "    </tr>\n",
       "    <tr>\n",
       "      <th>1</th>\n",
       "      <td>The sun has gone into ‘lockdown’ which could c...</td>\n",
       "      <td>[(The, DET), (sun, NOUN), (has, AUX), (gone, V...</td>\n",
       "      <td>[(The, DET), (current, ADJ), (consensus, NOUN)...</td>\n",
       "    </tr>\n",
       "    <tr>\n",
       "      <th>2</th>\n",
       "      <td>The polar bear population has been growing.</td>\n",
       "      <td>[(The, DET), (polar, ADJ), (bear, NOUN), (popu...</td>\n",
       "      <td>[(Ask, VERB), (the, DET), (experts, NOUN), (Ar...</td>\n",
       "    </tr>\n",
       "    <tr>\n",
       "      <th>3</th>\n",
       "      <td>Ironic' study finds more CO2 has slightly cool...</td>\n",
       "      <td>[(Ironic, ADJ), (study, NOUN), (finds, VERB), ...</td>\n",
       "      <td>[(in, ADP), (the, DET), (mesosphere, NOUN), (a...</td>\n",
       "    </tr>\n",
       "    <tr>\n",
       "      <th>4</th>\n",
       "      <td>Human additions of CO2 are in the margin of er...</td>\n",
       "      <td>[(Human, ADJ), (additions, NOUN), (of, ADP), (...</td>\n",
       "      <td>[(While, SCONJ), (CO, NOUN), (absorption, NOUN...</td>\n",
       "    </tr>\n",
       "  </tbody>\n",
       "</table>\n",
       "</div>"
      ],
      "text/plain": [
       "                                               claim  \\\n",
       "0  Global warming is driving polar bears toward e...   \n",
       "1  The sun has gone into ‘lockdown’ which could c...   \n",
       "2        The polar bear population has been growing.   \n",
       "3  Ironic' study finds more CO2 has slightly cool...   \n",
       "4  Human additions of CO2 are in the margin of er...   \n",
       "\n",
       "                                      claim_pos_tags  \\\n",
       "0  [(Global, ADJ), (warming, NOUN), (is, AUX), (d...   \n",
       "1  [(The, DET), (sun, NOUN), (has, AUX), (gone, V...   \n",
       "2  [(The, DET), (polar, ADJ), (bear, NOUN), (popu...   \n",
       "3  [(Ironic, ADJ), (study, NOUN), (finds, VERB), ...   \n",
       "4  [(Human, ADJ), (additions, NOUN), (of, ADP), (...   \n",
       "\n",
       "                                   evidence_pos_tags  \n",
       "0  [(Recent, ADJ), (Research, NOUN), (Shows, VERB...  \n",
       "1  [(The, DET), (current, ADJ), (consensus, NOUN)...  \n",
       "2  [(Ask, VERB), (the, DET), (experts, NOUN), (Ar...  \n",
       "3  [(in, ADP), (the, DET), (mesosphere, NOUN), (a...  \n",
       "4  [(While, SCONJ), (CO, NOUN), (absorption, NOUN...  "
      ]
     },
     "execution_count": 13,
     "metadata": {},
     "output_type": "execute_result"
    }
   ],
   "source": [
    "# POS tagging to text\n",
    "def pos_tagging(text):\n",
    "    doc = nlp(text)\n",
    "    return [(token.text, token.pos_) for token in doc]\n",
    "\n",
    "# POS tagging to the preprocessed claim and evidence columns\n",
    "data['claim_pos_tags'] = data['clean_claim'].apply(pos_tagging)\n",
    "data['evidence_pos_tags'] = data['clean_evidence'].apply(pos_tagging)\n",
    "\n",
    "# display POS tags\n",
    "data[['claim', 'claim_pos_tags', 'evidence_pos_tags']].head()\n"
   ]
  },
  {
   "cell_type": "markdown",
   "id": "e2bdf66e-2b81-42e4-9aa8-463f333877bc",
   "metadata": {},
   "source": [
    "spaCy’s nlp model was used to tag each word in the claim and evidence columns with its respective part of speech. The function pos_tagging goes through the preprocessed text and assigns a POS tag to each word, such as:\n",
    "\n",
    "- Noun (NOUN)\n",
    "- Verb (VERB)\n",
    "- Adjective (ADJ)\n",
    "- Preposition (ADP)\n",
    "\n",
    "For instance, in a sentence like \"Global warming is increasing,\" the POS tags would identify \"global\" as an adjective (ADJ), \"warming\" as a noun (NOUN), and \"increasing\" as a verb (VERB). This information helps for understanding the sentence's structure.\n",
    "\n",
    "By applying POS tagging, we can gain insight into the language and sentence construction used in climate-related claims and evidence. For example, scientific claims may heavily rely on verbs like \"prove,\" \"support,\" or \"refute,\" which could provide information about how evidence is being presented."
   ]
  },
  {
   "cell_type": "markdown",
   "id": "7c09335c-9d84-4251-bd91-64e70f2d234d",
   "metadata": {},
   "source": [
    "# Analyzing and Visualizing the Results "
   ]
  },
  {
   "cell_type": "markdown",
   "id": "d8ca806e-0f6c-48d8-94b0-233c8f6c0a2d",
   "metadata": {},
   "source": [
    "Now that we have extracted named entities using NER and tagged parts of speech using POS tagging, we can proceed to analyze and visualize the results. Visualization helps us better understand the distribution of named entities and POS tags across the dataset, revealing patterns in the language used in climate-related claims and evidence."
   ]
  },
  {
   "cell_type": "code",
   "execution_count": 17,
   "id": "6e3a36b1-8d99-47d1-97ec-2a20086d66ac",
   "metadata": {},
   "outputs": [
    {
     "data": {
      "image/png": "[encoded data removed]",
      "text/plain": [
       "<Figure size 1000x600 with 1 Axes>"
      ]
     },
     "metadata": {},
     "output_type": "display_data"
    }
   ],
   "source": [
    "import seaborn as sns\n",
    "import matplotlib.pyplot as plt\n",
    "\n",
    "# extract entity labels from both claim and evidence\n",
    "entity_labels = [entity[1] for sublist in data['claim_entities'] for entity in sublist] + \\\n",
    "                [entity[1] for sublist in data['evidence_entities'] for entity in sublist]\n",
    "\n",
    "# plot the distribution of named entity types\n",
    "plt.figure(figsize=(10, 6))\n",
    "sns.countplot(y=entity_labels, order=pd.Series(entity_labels).value_counts().index)\n",
    "plt.title('Distribution of Named Entity Types')\n",
    "plt.xlabel('Count')\n",
    "plt.ylabel('Entity Type')\n",
    "plt.show()\n"
   ]
  },
  {
   "cell_type": "markdown",
   "id": "5b52c05c-15e6-4231-8de7-b65c4061ba1e",
   "metadata": {},
   "source": [
    "We extract all the entity labels (such as PERSON, ORG, GPE) from both the claims and evidence columns and then visualize their distribution using a bar chart. This plot helps us understand which types of entities are most frequently discussed in climate-related claims and evidence. For example, we may find that organizations (ORG) or locations (GPE) are mentioned more frequently, indicating a focus on institutions or specific geographic regions."
   ]
  },
  {
   "cell_type": "markdown",
   "id": "1ddfb6cb-0f54-485c-9924-279a154e19b7",
   "metadata": {},
   "source": [
    "## POS Tagging Analysesb"
   ]
  },
  {
   "cell_type": "code",
   "execution_count": 20,
   "id": "8118fe79-1ea3-40f8-bca6-f9f1e93f2643",
   "metadata": {},
   "outputs": [
    {
     "data": {
      "image/png": "[encoded data removed]",
      "text/plain": [
       "<Figure size 1000x600 with 1 Axes>"
      ]
     },
     "metadata": {},
     "output_type": "display_data"
    }
   ],
   "source": [
    "# extract POS tags from both claim and evidence\n",
    "pos_tags = [tag[1] for sublist in data['claim_pos_tags'] for tag in sublist] + \\\n",
    "           [tag[1] for sublist in data['evidence_pos_tags'] for tag in sublist]\n",
    "\n",
    "# plot the distribution of POS tags\n",
    "plt.figure(figsize=(10, 6))\n",
    "sns.countplot(y=pos_tags, order=pd.Series(pos_tags).value_counts().index)\n",
    "plt.title('Distribution of Part-of-Speech Tags')\n",
    "plt.xlabel('Count')\n",
    "plt.ylabel('POS Tag')\n",
    "plt.show()\n"
   ]
  },
  {
   "cell_type": "markdown",
   "id": "6e64ded2-2f0d-4b5d-a824-67c7012c33c2",
   "metadata": {},
   "source": [
    "This collects the POS tags (such as NOUN, VERB, ADJ) from both claims and evidence and visualizes their distribution. The resulting bar chart shows which parts of speech are most commonly used. For example, a higher frequency of verbs (VERB) might indicate that claims are action-oriented, focusing on what is happening or being done in relation to climate change."
   ]
  },
  {
   "cell_type": "markdown",
   "id": "158e28a6-e6ce-4ca6-ae0a-a81c481d43d2",
   "metadata": {},
   "source": [
    "## Analyses and Insights"
   ]
  },
  {
   "cell_type": "markdown",
   "id": "3d77189a-e682-494d-b90e-ec789336c224",
   "metadata": {},
   "source": [
    "By analyzing the distribution of named entities, one might find that certain types of entities, such as organizations (ORG) or locations (GPE), dominate the conversation around climate change. This suggests that much of the discussion may center around institutional actions or geographical impacts. For example, organizations like \"NASA\" or locations like \"Arctic\" may be frequently mentioned, reflecting the focus of climate debates.\n",
    "\n",
    "POS tagging reveals the grammatical structure of climate-related claims. For instance, a high occurrence of verbs (VERB) could indicate that many claims and evidence statements are action-based, focusing on what is being done or observed (e.g., \"temperatures are rising\"). A higher frequency of adjectives (ADJ) might reflect the descriptive nature of the claims (e.g., \"severe global warming\"). This helps understand how the language is framed in both claims and supporting evidence."
   ]
  },
  {
   "cell_type": "markdown",
   "id": "f6913ae8-45b8-442a-bc3f-b8ca73d0472c",
   "metadata": {},
   "source": [
    "# Challenges "
   ]
  },
  {
   "cell_type": "markdown",
   "id": "76821f79-b030-4cce-a9b9-69f7927a8767",
   "metadata": {},
   "source": [
    "One of the key challenges in the NER process was entity ambiguity. For example, the term \"Amazon\" could refer to both the corporation and the rainforest, depending on the context. This challenge required careful interpretation and sometimes led to misclassification of entities. As described in the article on Understanding Named Entity Recognition, such ambiguity is common in NER tasks, especially when dealing with domain-specific texts like climate change.\n",
    "\n",
    "Another challenge arose with POS tagging, especially in long and complex sentences where multiple grammatical structures were present. In some cases, words like “increase” could serve as both a noun and a verb, depending on their context within the sentence. This required extra care in interpreting the results and ensuring accuracy.\n",
    "\n",
    "The presence of domain-specific terms related to climate science, such as “carbon sequestration” or “emission trading,” added complexity to the analysis. While spaCy’s pre-trained models handle general language quite well, specialized models trained on climate science texts might have improved the accuracy of both NER and POS tagging."
   ]
  },
  {
   "cell_type": "markdown",
   "id": "9ecc98a6-c6da-48ce-bd34-e498c893b912",
   "metadata": {},
   "source": [
    "# Conclusion"
   ]
  },
  {
   "cell_type": "markdown",
   "id": "2564b232-a3da-4e3d-9c52-bf9a2e794e4f",
   "metadata": {},
   "source": [
    "The analysis of the Climate Fever dataset using NER and POS tagging techniques provided valuable insights into the language of climate change discourse. Named entities revealed the key players and locations frequently discussed, while POS tagging highlighted the action-oriented nature of the claims and evidence. Despite some challenges with entity ambiguity and domain-specific terminology, the overall approach successfully structured the unstructured text, allowing for better interpretation of climate-related information.\n",
    "\n",
    "In future work, integrating more advanced models, like domain-adapted versions of BERT (e.g., SciBERT or ClimateBERT), could enhance both NER and POS tagging accuracy in climate-related texts. Also, training the model on a larger dataset that includes more diverse climate-related articles or scientific papers could also improve entity recognition and reduce ambiguities."
   ]
  },
  {
   "cell_type": "markdown",
   "id": "055e787d-9c08-474d-9064-a538c152616e",
   "metadata": {},
   "source": [
    "# References"
   ]
  },
  {
   "cell_type": "markdown",
   "id": "75fd5b03-ffab-4c7b-a52c-c2b33c6c6599",
   "metadata": {},
   "source": [
    "D212digital. (2023, February 13). Understanding named entity recognition: What is it and how to use it in natural language processing?. Medium. https://medium.com/@212digital/understanding-named-entity-recognition-what-is-it-and-how-to-use-it-in-natural-language-processing-b81e77e1d155 \n",
    "\n",
    "Linguistic features · spacy usage documentation. spacy.io. (n.d.). https://spacy.io/usage/linguistic-features#named-entities  \n",
    "\n",
    "Named Entity Recognition (NER) Explained in NLP (YouTube Video)\n",
    "YouTube. (n.d.). YouTube. https://www.youtube.com/watch?v=MACmU9MxGqE \n",
    "\n",
    "Pykes, K. (2020, November 25). Part of speech tagging for beginners. Medium. https://towardsdatascience.com/part-of-speech-tagging-for-beginners-3a0754b2ebba "
   ]
  }
 ],
 "metadata": {
  "authors": [
   {
    "name": "Ricardo Barbosa"
   }
  ],
  "date": "September 23, 2024",
  "kernelspec": {
   "display_name": "Python 3 (ipykernel)",
   "language": "python",
   "name": "python3"
  },
  "language_info": {
   "codemirror_mode": {
    "name": "ipython",
    "version": 3
   },
   "file_extension": ".py",
   "mimetype": "text/x-python",
   "name": "python",
   "nbconvert_exporter": "python",
   "pygments_lexer": "ipython3",
   "version": "3.12.2"
  },
  "title": "AAI 520 - Assignment 3"
 },
 "nbformat": 4,
 "nbformat_minor": 5
}
