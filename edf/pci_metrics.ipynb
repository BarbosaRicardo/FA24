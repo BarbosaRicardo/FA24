{
 "cells": [
  {
   "cell_type": "markdown",
   "id": "f9182623",
   "metadata": {},
   "source": [
    "# Introduction"
   ]
  },
  {
   "cell_type": "markdown",
   "id": "8064168d",
   "metadata": {},
   "source": [
    "This Python script assumes PCI does not have a working report management system in place. This automates the extraction of key operational data from email files, such as Site Name, Nature of Work, and ISO Cause Code, commonly found in PCI emails related to power generation events (e.g., maintenance, upgrades). The script decodes email content, extracts relevant data using regular expressions, and exports it to a CSV file for integration with Power BI and Tableau. It also visualizes the number of events per site, broken down by event type, through a stacked bar chart. Emails are sampled from September 1 - September 17, 2024."
   ]
  },
  {
   "cell_type": "markdown",
   "id": "ed5ecc50",
   "metadata": {},
   "source": [
    "# Importing Libraries"
   ]
  },
  {
   "cell_type": "code",
   "execution_count": 1,
   "id": "9e899331",
   "metadata": {},
   "outputs": [],
   "source": [
    "import os\n",
    "import zipfile\n",
    "from email import policy\n",
    "from email.parser import BytesParser\n",
    "import collections\n",
    "import re\n",
    "import csv\n",
    "import matplotlib.pyplot as plt"
   ]
  },
  {
   "cell_type": "markdown",
   "id": "a70facdf",
   "metadata": {},
   "source": [
    "# Extract Email Content "
   ]
  },
  {
   "cell_type": "code",
   "execution_count": 2,
   "id": "e6d4ab41",
   "metadata": {},
   "outputs": [],
   "source": [
    "# import dataset \n",
    "zip_file_path=\"/Users/bandito/Documents/FA24/edf/PCI - September 2024.zip\"\n",
    "file_path = '/Users/bandito/Documents/FA24/edf/PCI - September 2024/'\n",
    "\n",
    "\n",
    "# function to extract email content from an .eml file\n",
    "def extract_email_content(file_path):\n",
    "    with open(file_path, 'rb') as file:\n",
    "        msg = BytesParser(policy=policy.default).parse(file)\n",
    "    \n",
    "    # detect charset from the header\n",
    "    charset = msg.get_content_charset() if msg.get_content_charset() else 'utf-8'\n",
    "    \n",
    "    # get email data (body)\n",
    "    if msg.is_multipart():\n",
    "        for part in msg.iter_parts():\n",
    "            if part.get_content_type() == \"text/plain\":\n",
    "                try:\n",
    "                    return part.get_payload(decode=True).decode(charset)\n",
    "                except UnicodeDecodeError:\n",
    "                    return part.get_payload(decode=True).decode('ISO-8859-1', errors='replace')  # Fallback to another encoding\n",
    "    else:\n",
    "        try:\n",
    "            return msg.get_payload(decode=True).decode(charset)\n",
    "        except UnicodeDecodeError:\n",
    "            return msg.get_payload(decode=True).decode('ISO-8859-1', errors='replace')"
   ]
  },
  {
   "cell_type": "markdown",
   "id": "1b9f87fc",
   "metadata": {},
   "source": [
    "# Extract Key Data Using Regex"
   ]
  },
  {
   "cell_type": "code",
   "execution_count": 3,
   "id": "3eeb6772",
   "metadata": {},
   "outputs": [],
   "source": [
    "# function to extract field with regular expressions\n",
    "def extract_info_from_email(content):\n",
    "    # regex patterns to find site name, nature of work, and ISO cause code\n",
    "    site_name_pattern = r\"Please see outage request for\\s(.+)\"\n",
    "    nature_of_work_pattern = r\"Nature of Work:\\s(.+)\"\n",
    "    iso_code_pattern = r\"ISO Cause Code:\\s(.+?)\\n\"\n",
    "    \n",
    "    site_name_match = re.search(site_name_pattern, content)\n",
    "    nature_of_work_match = re.search(nature_of_work_pattern, content)\n",
    "    iso_code_match = re.search(iso_code_pattern, content)\n",
    "    \n",
    "    site_name = site_name_match.group(1).strip() if site_name_match else \"Pland Derate\"\n",
    "    nature_of_work = nature_of_work_match.group(1).strip() if nature_of_work_match else \"Plant Derate\"\n",
    "    iso_code = iso_code_match.group(1).strip() if iso_code_match else \"Plant Derate\"\n",
    "    \n",
    "    return site_name, nature_of_work, iso_code"
   ]
  },
  {
   "cell_type": "markdown",
   "id": "e290f62a",
   "metadata": {},
   "source": [
    "# Multiple Email Process Handling"
   ]
  },
  {
   "cell_type": "code",
   "execution_count": 4,
   "id": "1c1f1905",
   "metadata": {},
   "outputs": [],
   "source": [
    "# function to process all .eml files into a single directory\n",
    "def process_eml_files(directory):\n",
    "    extracted_data = []\n",
    "    for filename in os.listdir(directory):\n",
    "        if filename.endswith(\".eml\"):\n",
    "            file_path = os.path.join(directory, filename)\n",
    "            content = extract_email_content(file_path)\n",
    "            site_name, nature_of_work, iso_code = extract_info_from_email(content)\n",
    "            extracted_data.append((site_name, nature_of_work, iso_code))\n",
    "    \n",
    "    return extracted_data"
   ]
  },
  {
   "cell_type": "markdown",
   "id": "bc6fc894",
   "metadata": {},
   "source": [
    "# Export CSV"
   ]
  },
  {
   "cell_type": "code",
   "execution_count": 5,
   "id": "0a369a04",
   "metadata": {},
   "outputs": [],
   "source": [
    "# function to export extracted data to a CSV file\n",
    "def export_to_csv(email_data, output_file):\n",
    "    # Define the headers for the CSV\n",
    "    headers = ['Site Name', 'Nature of Work', 'ISO Cause Code']\n",
    "    \n",
    "    # write data to a CSV file\n",
    "    with open(output_file, mode='w', newline='') as file:\n",
    "        writer = csv.writer(file)\n",
    "        writer.writerow(headers)\n",
    "        writer.writerows(email_data)\n",
    "    \n",
    "    print(f\"Data exported to {output_file}\") # sanity check"
   ]
  },
  {
   "cell_type": "markdown",
   "id": "78e5bfb0",
   "metadata": {},
   "source": [
    "# Create Stacked Chart"
   ]
  },
  {
   "cell_type": "code",
   "execution_count": 6,
   "id": "694061de",
   "metadata": {},
   "outputs": [],
   "source": [
    "# visualization to stacked charts\n",
    "def create_event_chart(email_data):\n",
    "    # organize by site and event type \n",
    "    site_event_counter = collections.defaultdict(lambda: collections.Counter())\n",
    "\n",
    "    for site, event, iso_code in email_data:\n",
    "        site_event_counter[site][event] += 1\n",
    "\n",
    "    # date to plot \n",
    "    sites = list(site_event_counter.keys())\n",
    "    event_types = list({event for events in site_event_counter.values() for event in events})\n",
    "\n",
    "    # initialize a dictionary to hold count\n",
    "    event_data_per_site = {site: [site_event_counter[site].get(event, 0) for event in event_types] for site in sites}\n",
    "\n",
    "    # create a stacked bar chart\n",
    "    fig, ax = plt.subplots(figsize=(10, 6))\n",
    "\n",
    "    bottom = [0] * len(sites)\n",
    "    for i, event_type in enumerate(event_types):\n",
    "        event_counts = [event_data_per_site[site][i] for site in sites]\n",
    "        ax.bar(sites, event_counts, label=event_type, bottom=bottom)\n",
    "        bottom = [x + y for x, y in zip(bottom, event_counts)]\n",
    "\n",
    "    # labels\n",
    "    plt.xlabel('Site Name')\n",
    "    plt.ylabel('Number of Events')\n",
    "    plt.title('Number of Events per Site by Event Type')\n",
    "    plt.xticks(rotation=45, ha=\"right\")\n",
    "    plt.legend(title='Event Type')\n",
    "\n",
    "    # display plot\n",
    "    plt.tight_layout()\n",
    "    plt.show()"
   ]
  },
  {
   "cell_type": "code",
   "execution_count": 7,
   "id": "0268eff6",
   "metadata": {},
   "outputs": [
    {
     "name": "stdout",
     "output_type": "stream",
     "text": [
      "Data exported to extracted_event_data.csv\n"
     ]
    },
    {
     "data": {
      "image/png": "[encoded data removed]",
      "text/plain": [
       "<Figure size 720x432 with 1 Axes>"
      ]
     },
     "metadata": {
      "needs_background": "light"
     },
     "output_type": "display_data"
    }
   ],
   "source": [
    "# driver \n",
    "directory_path = file_path  # Replace with your .eml files directory\n",
    "email_data = process_eml_files(directory_path)\n",
    "\n",
    "# export the data to CSV \n",
    "output_file = 'extracted_event_data.csv'\n",
    "export_to_csv(email_data, output_file)\n",
    "\n",
    "# create a chart \n",
    "create_event_chart(email_data)"
   ]
  }
 ],
 "metadata": {
  "authors": [
   {
    "name": "Ricardo Barbosa"
   }
  ],
  "date": "September 17, 2024",
  "kernelspec": {
   "display_name": "Python 3 (ipykernel)",
   "language": "python",
   "name": "python3"
  },
  "language_info": {
   "codemirror_mode": {
    "name": "ipython",
    "version": 3
   },
   "file_extension": ".py",
   "mimetype": "text/x-python",
   "name": "python",
   "nbconvert_exporter": "python",
   "pygments_lexer": "ipython3",
   "version": "3.9.7"
  },
  "title": "Business Case - PCI Metrics w/ Limited Resources"
 },
 "nbformat": 4,
 "nbformat_minor": 5
}
